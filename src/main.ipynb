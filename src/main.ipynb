{
 "cells": [
  {
   "attachments": {},
   "cell_type": "markdown",
   "metadata": {},
   "source": [
    "# Libraries"
   ]
  },
  {
   "cell_type": "code",
   "execution_count": null,
   "metadata": {},
   "outputs": [],
   "source": [
    "import pandas as pd\n",
    "import numpy as np\n",
    "import matplotlib.pyplot as plt\n",
    "from scipy.stats import gamma, norm, probplot, pearsonr\n",
    "\n",
    "import warnings\n",
    "\n",
    "warnings.filterwarnings(\"ignore\")"
   ]
  },
  {
   "attachments": {},
   "cell_type": "markdown",
   "metadata": {},
   "source": [
    "# Auxiliary functions"
   ]
  },
  {
   "cell_type": "code",
   "execution_count": null,
   "metadata": {},
   "outputs": [],
   "source": [
    "def calculate_bin(data_column):\n",
    "    return int(1 + 3.3 * np.log10(len(data_column)))"
   ]
  },
  {
   "attachments": {},
   "cell_type": "markdown",
   "metadata": {},
   "source": [
    "# Read Data"
   ]
  },
  {
   "cell_type": "code",
   "execution_count": null,
   "metadata": {},
   "outputs": [],
   "source": [
    "df_chromecast = pd.read_csv(\"../data/dataset_chromecast.csv\")\n",
    "df_smart_tv = pd.read_csv(\"../data/dataset_smart-tv.csv\")"
   ]
  },
  {
   "attachments": {},
   "cell_type": "markdown",
   "metadata": {},
   "source": [
    "# Data Preprocessing"
   ]
  },
  {
   "attachments": {},
   "cell_type": "markdown",
   "metadata": {},
   "source": [
    "## Log Transformation"
   ]
  },
  {
   "attachments": {},
   "cell_type": "markdown",
   "metadata": {},
   "source": [
    "### Chromecast"
   ]
  },
  {
   "cell_type": "code",
   "execution_count": null,
   "metadata": {},
   "outputs": [],
   "source": [
    "df_chromecast[\"log_bytes_up\"] = np.log10(df_chromecast[\"bytes_up\"])\n",
    "df_chromecast[\"log_bytes_down\"] = np.log10(df_chromecast[\"bytes_down\"])\n",
    "\n",
    "df_chromecast[\"log_bytes_up\"] = df_chromecast[\"log_bytes_up\"].replace(-np.inf, 0)\n",
    "df_chromecast[\"log_bytes_down\"] = df_chromecast[\"log_bytes_down\"].replace(-np.inf, 0)"
   ]
  },
  {
   "attachments": {},
   "cell_type": "markdown",
   "metadata": {},
   "source": [
    "### Smart TV"
   ]
  },
  {
   "cell_type": "code",
   "execution_count": null,
   "metadata": {},
   "outputs": [],
   "source": [
    "df_smart_tv[\"log_bytes_down\"] = np.log10(df_smart_tv[\"bytes_down\"])\n",
    "df_smart_tv[\"log_bytes_up\"] = np.log10(df_smart_tv[\"bytes_up\"])\n",
    "\n",
    "df_smart_tv[\"log_bytes_down\"] = df_smart_tv[\"log_bytes_down\"].replace(-np.inf, 0)\n",
    "df_smart_tv[\"log_bytes_up\"] = df_smart_tv[\"log_bytes_up\"].replace(-np.inf, 0)"
   ]
  },
  {
   "attachments": {},
   "cell_type": "markdown",
   "metadata": {},
   "source": [
    "## Create Hour Column"
   ]
  },
  {
   "attachments": {},
   "cell_type": "markdown",
   "metadata": {},
   "source": [
    "### Chromecast"
   ]
  },
  {
   "cell_type": "code",
   "execution_count": null,
   "metadata": {},
   "outputs": [],
   "source": [
    "df_chromecast[\"hour\"] = df_chromecast[\"date_hour\"].apply(\n",
    "    lambda x: int(x.split(\" \")[1].split(\":\")[0])\n",
    ")"
   ]
  },
  {
   "attachments": {},
   "cell_type": "markdown",
   "metadata": {},
   "source": [
    "### Smart TV"
   ]
  },
  {
   "cell_type": "code",
   "execution_count": null,
   "metadata": {},
   "outputs": [],
   "source": [
    "df_smart_tv[\"hour\"] = df_smart_tv[\"date_hour\"].apply(\n",
    "    lambda x: int(x.split(\" \")[1].split(\":\")[0])\n",
    ")"
   ]
  },
  {
   "attachments": {},
   "cell_type": "markdown",
   "metadata": {},
   "source": [
    "# Second Section"
   ]
  },
  {
   "attachments": {},
   "cell_type": "markdown",
   "metadata": {},
   "source": [
    "## Chromecast"
   ]
  },
  {
   "attachments": {},
   "cell_type": "markdown",
   "metadata": {},
   "source": [
    "### Histogram"
   ]
  },
  {
   "cell_type": "code",
   "execution_count": null,
   "metadata": {},
   "outputs": [],
   "source": [
    "fig = plt.figure()\n",
    "plt.hist(\n",
    "    df_chromecast[\"log_bytes_up\"],\n",
    "    bins=calculate_bin(df_chromecast[\"log_bytes_up\"]),\n",
    "    color=\"blue\",\n",
    "    alpha=0.5,\n",
    "    edgecolor=\"black\",\n",
    ")\n",
    "plt.xlabel(\"Bytes Up\")\n",
    "plt.ylabel(\"Frequency\")\n",
    "plt.title(\"Chromecast histogram of Bytes Up\")\n",
    "fig.savefig(\n",
    "    \"../images/chromecast/general/histogram/chromecast_hist_bytes_up.png\", \n",
    "    dpi=fig.dpi\n",
    ")"
   ]
  },
  {
   "cell_type": "code",
   "execution_count": null,
   "metadata": {},
   "outputs": [],
   "source": [
    "fig = plt.figure()\n",
    "plt.hist(\n",
    "    df_chromecast[\"log_bytes_down\"],\n",
    "    bins=calculate_bin(df_chromecast[\"log_bytes_down\"]),\n",
    "    color=\"red\",\n",
    "    alpha=0.5,\n",
    "    edgecolor=\"black\",\n",
    ")\n",
    "plt.xlabel(\"Bytes Down\")\n",
    "plt.ylabel(\"Frequency\")\n",
    "plt.title(\"Chromecast histogram of Bytes Down\")\n",
    "fig.savefig(\n",
    "    \"../images/chromecast/general/histogram/chromecast_hist_bytes_down.png\", \n",
    "    dpi=fig.dpi\n",
    ")"
   ]
  },
  {
   "attachments": {},
   "cell_type": "markdown",
   "metadata": {},
   "source": [
    "### Empirical Distribution Function"
   ]
  },
  {
   "cell_type": "code",
   "execution_count": null,
   "metadata": {},
   "outputs": [],
   "source": [
    "fig = plt.figure()\n",
    "plt.plot(\n",
    "    df_chromecast[\"log_bytes_up\"].sort_values(),\n",
    "    np.linspace(0, 1, len(df_chromecast[\"log_bytes_up\"])),\n",
    "    color=\"blue\",\n",
    "    marker=\".\",\n",
    ")\n",
    "plt.xlabel(\"Bytes Up\")\n",
    "plt.ylabel(\"Fx(x)\")\n",
    "plt.title(\"Chromecast Empirical Distribution Function of Bytes Up\")\n",
    "fig.savefig(\n",
    "    \"../images/chromecast/general/edf/chromecast_edf_bytes_up.png\", \n",
    "    dpi=fig.dpi\n",
    ")"
   ]
  },
  {
   "cell_type": "code",
   "execution_count": null,
   "metadata": {},
   "outputs": [],
   "source": [
    "fig = plt.figure()\n",
    "plt.plot(\n",
    "    df_chromecast[\"log_bytes_down\"].sort_values(),\n",
    "    np.linspace(0, 1, len(df_chromecast[\"log_bytes_down\"])),\n",
    "    color=\"red\",\n",
    "    marker=\".\",\n",
    ")\n",
    "plt.xlabel(\"Bytes Down\")\n",
    "plt.ylabel(\"Fx(x)\")\n",
    "plt.title(\"Chromecast Empirical Distribution Function of Bytes Down\")\n",
    "fig.savefig(\n",
    "    \"../images/chromecast/general/edf/chromecast_edf_bytes_down.png\", \n",
    "    dpi=fig.dpi\n",
    ")"
   ]
  },
  {
   "attachments": {},
   "cell_type": "markdown",
   "metadata": {},
   "source": [
    "### Boxplot"
   ]
  },
  {
   "cell_type": "code",
   "execution_count": null,
   "metadata": {},
   "outputs": [],
   "source": [
    "fig = plt.figure()\n",
    "plt.boxplot(\n",
    "    [df_chromecast[\"log_bytes_up\"], df_chromecast[\"log_bytes_down\"]],\n",
    "    labels=[\"Bytes Up\", \"Bytes Down\"],\n",
    "    patch_artist=True,\n",
    "    boxprops=dict(facecolor=\"cyan\", color=\"black\"),\n",
    "    medianprops=dict(color=\"black\"),\n",
    "    whiskerprops=dict(color=\"black\"),\n",
    "    capprops=dict(color=\"black\"),\n",
    ")\n",
    "plt.ylabel(\"Bytes\")\n",
    "plt.title(\"Chromecast Boxplot of Bytes Up and Bytes Down\")\n",
    "fig.savefig(\n",
    "    \"../images/chromecast/general/boxplot/chromecast_boxplot_bytes_up_down.png\",\n",
    "    dpi=fig.dpi,\n",
    ")"
   ]
  },
  {
   "attachments": {},
   "cell_type": "markdown",
   "metadata": {},
   "source": [
    "### Statistical Analysis"
   ]
  },
  {
   "cell_type": "code",
   "execution_count": null,
   "metadata": {},
   "outputs": [],
   "source": [
    "chromecast_bytes_up_down = pd.DataFrame(\n",
    "    {\n",
    "        \"Log Bytes Up\": [\n",
    "            df_chromecast[\"log_bytes_up\"].mean(),\n",
    "            df_chromecast[\"log_bytes_up\"].var(),\n",
    "            df_chromecast[\"log_bytes_up\"].std(),\n",
    "        ],\n",
    "        \"Log Bytes Down\": [\n",
    "            df_chromecast[\"log_bytes_down\"].mean(),\n",
    "            df_chromecast[\"log_bytes_down\"].var(),\n",
    "            df_chromecast[\"log_bytes_down\"].std(),\n",
    "        ],\n",
    "    },\n",
    "    index=[\"Mean\", \"Variance\", \"Standard Deviation\"],\n",
    ")\n",
    "\n",
    "print(chromecast_bytes_up_down.to_markdown())"
   ]
  },
  {
   "attachments": {},
   "cell_type": "markdown",
   "metadata": {},
   "source": [
    "## Smart TV"
   ]
  },
  {
   "attachments": {},
   "cell_type": "markdown",
   "metadata": {},
   "source": [
    "### Histogram"
   ]
  },
  {
   "cell_type": "code",
   "execution_count": null,
   "metadata": {},
   "outputs": [],
   "source": [
    "fig = plt.figure()\n",
    "plt.hist(\n",
    "    df_smart_tv[\"log_bytes_up\"],\n",
    "    bins=calculate_bin(df_smart_tv[\"log_bytes_up\"]),\n",
    "    color=\"blue\",\n",
    "    alpha=0.5,\n",
    "    edgecolor=\"black\",\n",
    ")\n",
    "plt.xlabel(\"Bytes Up\")\n",
    "plt.ylabel(\"Frequency\")\n",
    "plt.title(\"Smart TV histogram of Bytes Up\")\n",
    "fig.savefig(\n",
    "    \"../images/smart_tv/general/histogram/smart_tv_hist_bytes_up.png\", \n",
    "    dpi=fig.dpi\n",
    ")"
   ]
  },
  {
   "cell_type": "code",
   "execution_count": null,
   "metadata": {},
   "outputs": [],
   "source": [
    "fig = plt.figure()\n",
    "plt.hist(\n",
    "    df_smart_tv[\"log_bytes_down\"],\n",
    "    bins=calculate_bin(df_smart_tv[\"log_bytes_down\"]),\n",
    "    color=\"red\",\n",
    "    alpha=0.5,\n",
    "    edgecolor=\"black\",\n",
    ")\n",
    "plt.xlabel(\"Bytes Down\")\n",
    "plt.ylabel(\"Frequency\")\n",
    "plt.title(\"Smart TV histogram of Bytes Down\")\n",
    "fig.savefig(\n",
    "    \"../images/smart_tv/general/histogram/smart_tv_hist_bytes_down.png\", \n",
    "    dpi=fig.dpi\n",
    ")"
   ]
  },
  {
   "attachments": {},
   "cell_type": "markdown",
   "metadata": {},
   "source": [
    "### Empirical Distribution Function"
   ]
  },
  {
   "cell_type": "code",
   "execution_count": null,
   "metadata": {},
   "outputs": [],
   "source": [
    "fig = plt.figure()\n",
    "plt.plot(\n",
    "    df_smart_tv[\"log_bytes_up\"].sort_values(),\n",
    "    np.linspace(0, 1, len(df_smart_tv[\"log_bytes_up\"])),\n",
    "    color=\"blue\",\n",
    "    marker=\".\",\n",
    ")\n",
    "plt.xlabel(\"Bytes Up\")\n",
    "plt.ylabel(\"Fx(x)\")\n",
    "plt.title(\"Smart TV Empirical Distribution Function of Bytes Up\")\n",
    "fig.savefig(\n",
    "    \"../images/smart_tv/general/edf/smart_tv_edf_bytes_up.png\", \n",
    "    dpi=fig.dpi\n",
    ")"
   ]
  },
  {
   "cell_type": "code",
   "execution_count": null,
   "metadata": {},
   "outputs": [],
   "source": [
    "fig = plt.figure()\n",
    "plt.plot(\n",
    "    df_smart_tv[\"log_bytes_down\"].sort_values(),\n",
    "    np.linspace(0, 1, len(df_smart_tv[\"log_bytes_down\"])),\n",
    "    color=\"red\",\n",
    "    marker=\".\",\n",
    ")\n",
    "plt.xlabel(\"Bytes Down\")\n",
    "plt.ylabel(\"Fx(x)\")\n",
    "plt.title(\"Smart TV Empirical Distribution Function of Bytes Down\")\n",
    "fig.savefig(\n",
    "    \"../images/smart_tv/general/edf/smart_tv_edf_bytes_down.png\", \n",
    "    dpi=fig.dpi\n",
    ")"
   ]
  },
  {
   "attachments": {},
   "cell_type": "markdown",
   "metadata": {},
   "source": [
    "### Boxplot"
   ]
  },
  {
   "cell_type": "code",
   "execution_count": null,
   "metadata": {},
   "outputs": [],
   "source": [
    "fig = plt.figure()\n",
    "plt.boxplot(\n",
    "    [df_smart_tv[\"log_bytes_up\"], df_smart_tv[\"log_bytes_down\"]],\n",
    "    labels=[\"Bytes Up\", \"Bytes Down\"],\n",
    "    patch_artist=True,\n",
    "    boxprops=dict(facecolor=\"cyan\", color=\"black\"),\n",
    "    medianprops=dict(color=\"black\"),\n",
    "    whiskerprops=dict(color=\"black\"),\n",
    "    capprops=dict(color=\"black\"),\n",
    ")\n",
    "plt.ylabel(\"Bytes\")\n",
    "plt.title(\"Smart TV Boxplot of Bytes Up and Bytes Down\")\n",
    "fig.savefig(\n",
    "    \"../images/smart_tv/general/boxplot/smart_tv_boxplot_bytes_up_down.png\", \n",
    "    dpi=fig.dpi\n",
    ")"
   ]
  },
  {
   "attachments": {},
   "cell_type": "markdown",
   "metadata": {},
   "source": [
    "### Statistical Analysis"
   ]
  },
  {
   "cell_type": "code",
   "execution_count": null,
   "metadata": {},
   "outputs": [],
   "source": [
    "smart_tv_bytes_up_down = pd.DataFrame(\n",
    "    {\n",
    "        \"Log Bytes Up\": [\n",
    "            df_smart_tv[\"log_bytes_up\"].mean(),\n",
    "            df_smart_tv[\"log_bytes_up\"].var(),\n",
    "            df_smart_tv[\"log_bytes_up\"].std(),\n",
    "        ],\n",
    "        \"Log Bytes Down\": [\n",
    "            df_smart_tv[\"log_bytes_down\"].mean(),\n",
    "            df_smart_tv[\"log_bytes_down\"].var(),\n",
    "            df_smart_tv[\"log_bytes_down\"].std(),\n",
    "        ],\n",
    "    },\n",
    "    index=[\"Mean\", \"Variance\", \"Standard Deviation\"],\n",
    ")\n",
    "\n",
    "print(smart_tv_bytes_up_down.to_markdown())"
   ]
  },
  {
   "attachments": {},
   "cell_type": "markdown",
   "metadata": {},
   "source": [
    "# Third Section"
   ]
  },
  {
   "attachments": {},
   "cell_type": "markdown",
   "metadata": {},
   "source": [
    "## Chromecast"
   ]
  },
  {
   "attachments": {},
   "cell_type": "markdown",
   "metadata": {},
   "source": [
    "### Boxplot"
   ]
  },
  {
   "cell_type": "code",
   "execution_count": null,
   "metadata": {},
   "outputs": [],
   "source": [
    "for hour in range(0, 24):\n",
    "    fig = plt.figure()\n",
    "    plt.boxplot(\n",
    "        [\n",
    "            df_chromecast[df_chromecast[\"hour\"] == hour][\"log_bytes_up\"],\n",
    "            df_chromecast[df_chromecast[\"hour\"] == hour][\"log_bytes_down\"],\n",
    "        ],\n",
    "        labels=[\"Bytes Up\", \"Bytes Down\"],\n",
    "        patch_artist=True,\n",
    "        boxprops=dict(facecolor=\"cyan\", color=\"black\"),\n",
    "        medianprops=dict(color=\"black\"),\n",
    "        whiskerprops=dict(color=\"black\"),\n",
    "        capprops=dict(color=\"black\"),\n",
    "    )\n",
    "    plt.ylabel(\"Bytes\")\n",
    "    plt.title(\"Chromecast Boxplot of Bytes Up and Bytes Down for Hour \" + str(hour))\n",
    "    fig.savefig(\n",
    "        f\"../images/chromecast/hourly/boxplot/chromecast_boxplot_bytes_up_down_hour_{hour}.png\",\n",
    "        dpi=fig.dpi,\n",
    "    )"
   ]
  },
  {
   "attachments": {},
   "cell_type": "markdown",
   "metadata": {},
   "source": [
    "### Statistical Analysis"
   ]
  },
  {
   "cell_type": "code",
   "execution_count": null,
   "metadata": {},
   "outputs": [],
   "source": [
    "fig = plt.figure()\n",
    "plt.plot(\n",
    "    df_chromecast.groupby(\"hour\")[\"log_bytes_up\"].mean(),\n",
    "    color=\"red\",\n",
    "    marker=\".\",\n",
    "    label=\"Mean\",\n",
    ")\n",
    "plt.plot(\n",
    "    df_chromecast.groupby(\"hour\")[\"log_bytes_up\"].var(),\n",
    "    color=\"green\",\n",
    "    marker=\".\",\n",
    "    label=\"Variance\",\n",
    ")\n",
    "plt.plot(\n",
    "    df_chromecast.groupby(\"hour\")[\"log_bytes_up\"].std(),\n",
    "    color=\"blue\",\n",
    "    marker=\".\",\n",
    "    label=\"Standard Deviation\",\n",
    ")\n",
    "plt.xlabel(\"Hour\")\n",
    "plt.ylabel(\"Bytes\")\n",
    "plt.legend(loc=\"best\")\n",
    "plt.title(\"Chromecast Bytes Up Mean, Variance and Standard Deviation by Hour\")\n",
    "fig.savefig(\n",
    "    \"../images/chromecast/hourly/statistical_analysis/chromecast_line_bytes_up_mean_var_std_hour.png\",\n",
    "    dpi=fig.dpi,\n",
    ")"
   ]
  },
  {
   "cell_type": "code",
   "execution_count": null,
   "metadata": {},
   "outputs": [],
   "source": [
    "fig = plt.figure()\n",
    "plt.plot(\n",
    "    df_chromecast.groupby(\"hour\")[\"log_bytes_down\"].mean(),\n",
    "    color=\"red\",\n",
    "    marker=\".\",\n",
    "    label=\"Mean\",\n",
    ")\n",
    "plt.plot(\n",
    "    df_chromecast.groupby(\"hour\")[\"log_bytes_down\"].var(),\n",
    "    color=\"green\",\n",
    "    marker=\".\",\n",
    "    label=\"Variance\",\n",
    ")\n",
    "plt.plot(\n",
    "    df_chromecast.groupby(\"hour\")[\"log_bytes_down\"].std(),\n",
    "    color=\"blue\",\n",
    "    marker=\".\",\n",
    "    label=\"Standard Deviation\",\n",
    ")\n",
    "plt.xlabel(\"Hour\")\n",
    "plt.ylabel(\"Bytes\")\n",
    "plt.legend(loc=\"best\")\n",
    "plt.title(\"Chromecast Bytes Up Mean, Variance and Standard Deviation by Hour\")\n",
    "fig.savefig(\n",
    "    \"../images/chromecast/hourly/statistical_analysis/chromecast_line_bytes_down_mean_var_std_hour.png\",\n",
    "    dpi=fig.dpi,\n",
    ")"
   ]
  },
  {
   "attachments": {},
   "cell_type": "markdown",
   "metadata": {},
   "source": [
    "## Smart TV"
   ]
  },
  {
   "attachments": {},
   "cell_type": "markdown",
   "metadata": {},
   "source": [
    "### Boxplot"
   ]
  },
  {
   "cell_type": "code",
   "execution_count": null,
   "metadata": {},
   "outputs": [],
   "source": [
    "for hour in range(0, 24):\n",
    "    fig = plt.figure()\n",
    "    plt.boxplot(\n",
    "        [\n",
    "            df_smart_tv[df_smart_tv[\"hour\"] == hour][\"log_bytes_up\"],\n",
    "            df_smart_tv[df_smart_tv[\"hour\"] == hour][\"log_bytes_down\"],\n",
    "        ],\n",
    "        labels=[\"Bytes Up\", \"Bytes Down\"],\n",
    "        patch_artist=True,\n",
    "        boxprops=dict(facecolor=\"cyan\", color=\"black\"),\n",
    "        medianprops=dict(color=\"black\"),\n",
    "        whiskerprops=dict(color=\"black\"),\n",
    "        capprops=dict(color=\"black\"),\n",
    "    )\n",
    "    plt.ylabel(\"Bytes\")\n",
    "    plt.title(\"Smart TV Boxplot of Bytes Up and Bytes Down for Hour \" + str(hour))\n",
    "    fig.savefig(\n",
    "        f\"../images/smart_tv/hourly/boxplot/smart_tv_boxplot_bytes_up_down_hour_{hour}.png\",\n",
    "        dpi=fig.dpi,\n",
    "    )"
   ]
  },
  {
   "attachments": {},
   "cell_type": "markdown",
   "metadata": {},
   "source": [
    "### Statistical Analysis"
   ]
  },
  {
   "cell_type": "code",
   "execution_count": null,
   "metadata": {},
   "outputs": [],
   "source": [
    "fig = plt.figure()\n",
    "plt.plot(\n",
    "    df_smart_tv.groupby(\"hour\")[\"log_bytes_up\"].mean(),\n",
    "    color=\"red\",\n",
    "    marker=\".\",\n",
    "    label=\"Mean\",\n",
    ")\n",
    "plt.plot(\n",
    "    df_smart_tv.groupby(\"hour\")[\"log_bytes_up\"].var(),\n",
    "    color=\"green\",\n",
    "    marker=\".\",\n",
    "    label=\"Variance\",\n",
    ")\n",
    "plt.plot(\n",
    "    df_smart_tv.groupby(\"hour\")[\"log_bytes_up\"].std(),\n",
    "    color=\"blue\",\n",
    "    marker=\".\",\n",
    "    label=\"Standard Deviation\",\n",
    ")\n",
    "plt.xlabel(\"Hour\")\n",
    "plt.ylabel(\"Bytes\")\n",
    "plt.legend(loc=\"best\")\n",
    "plt.title(\"Smart TV Bytes Up Mean, Variance and Standard Deviation by Hour\")\n",
    "fig.savefig(\n",
    "    \"../images/smart_tv/hourly/statistical_analysis/smart_tv_line_bytes_up_mean_var_std_hour.png\",\n",
    "    dpi=fig.dpi,\n",
    ")"
   ]
  },
  {
   "cell_type": "code",
   "execution_count": null,
   "metadata": {},
   "outputs": [],
   "source": [
    "fig = plt.figure()\n",
    "plt.plot(\n",
    "    df_smart_tv.groupby(\"hour\")[\"log_bytes_down\"].mean(),\n",
    "    color=\"red\",\n",
    "    marker=\".\",\n",
    "    label=\"Mean\",\n",
    ")\n",
    "plt.plot(\n",
    "    df_smart_tv.groupby(\"hour\")[\"log_bytes_down\"].var(),\n",
    "    color=\"green\",\n",
    "    marker=\".\",\n",
    "    label=\"Variance\",\n",
    ")\n",
    "plt.plot(\n",
    "    df_smart_tv.groupby(\"hour\")[\"log_bytes_down\"].std(),\n",
    "    color=\"blue\",\n",
    "    marker=\".\",\n",
    "    label=\"Standard Deviation\",\n",
    ")\n",
    "plt.xlabel(\"Hour\")\n",
    "plt.ylabel(\"Bytes\")\n",
    "plt.legend(loc=\"best\")\n",
    "plt.title(\"Smart TV Bytes Down Mean, Variance and Standard Deviation by Hour\")\n",
    "fig.savefig(\n",
    "    \"../images/smart_tv/hourly/statistical_analysis/smart_tv_line_bytes_down_mean_var_std_hour.png\",\n",
    "    dpi=fig.dpi,\n",
    ")"
   ]
  },
  {
   "attachments": {},
   "cell_type": "markdown",
   "metadata": {},
   "source": [
    "# Fourth Section"
   ]
  },
  {
   "attachments": {},
   "cell_type": "markdown",
   "metadata": {},
   "source": [
    "## Chromecast"
   ]
  },
  {
   "attachments": {},
   "cell_type": "markdown",
   "metadata": {},
   "source": [
    "### Filter Dataset"
   ]
  },
  {
   "cell_type": "code",
   "execution_count": null,
   "metadata": {},
   "outputs": [],
   "source": [
    "hour_of_max_median_up_chromecast = (\n",
    "    df_chromecast.groupby(\"hour\")[\"log_bytes_up\"].median().idxmax()\n",
    ")\n",
    "hour_of_max_mean_up_chromecast = (\n",
    "    df_chromecast.groupby(\"hour\")[\"log_bytes_up\"].mean().idxmax()\n",
    ")\n",
    "hour_of_max_median_down_chromecast = (\n",
    "    df_chromecast.groupby(\"hour\")[\"log_bytes_down\"].median().idxmax()\n",
    ")\n",
    "hour_of_max_mean_down_chromecast = (\n",
    "    df_chromecast.groupby(\"hour\")[\"log_bytes_down\"].mean().idxmax()\n",
    ")"
   ]
  },
  {
   "cell_type": "code",
   "execution_count": null,
   "metadata": {},
   "outputs": [],
   "source": [
    "print(\n",
    "    f\"\"\"\n",
    "        Hour of max median bytes up: {hour_of_max_median_up_chromecast},\n",
    "        Hour of max median bytes down: {hour_of_max_median_down_chromecast}, \n",
    "        Hour of max mean bytes up: {hour_of_max_mean_up_chromecast}, \n",
    "        Hour of max mean bytes down: {hour_of_max_mean_down_chromecast}\n",
    "    \"\"\"\n",
    ")"
   ]
  },
  {
   "cell_type": "code",
   "execution_count": null,
   "metadata": {},
   "outputs": [],
   "source": [
    "df_chromecast_max_median_up = df_chromecast[\n",
    "    (df_chromecast[\"hour\"] == hour_of_max_median_up_chromecast)\n",
    "][[\"hour\", \"bytes_up\", \"log_bytes_up\", \"device_id\"]]\n",
    "\n",
    "df_chromecast_max_mean_up = df_chromecast[\n",
    "    (df_chromecast[\"hour\"] == hour_of_max_mean_up_chromecast)\n",
    "][[\"hour\", \"bytes_up\", \"log_bytes_up\", \"device_id\"]]\n",
    "\n",
    "df_chromecast_max_median_down = df_chromecast[\n",
    "    (df_chromecast[\"hour\"] == hour_of_max_median_down_chromecast)\n",
    "][[\"hour\", \"bytes_down\", \"log_bytes_down\", \"device_id\"]]\n",
    "\n",
    "df_chromecast_max_mean_down = df_chromecast[\n",
    "    (df_chromecast[\"hour\"] == hour_of_max_mean_down_chromecast)\n",
    "][[\"hour\", \"bytes_down\", \"log_bytes_down\", \"device_id\"]]"
   ]
  },
  {
   "attachments": {},
   "cell_type": "markdown",
   "metadata": {},
   "source": [
    "### Histogram"
   ]
  },
  {
   "cell_type": "code",
   "execution_count": null,
   "metadata": {},
   "outputs": [],
   "source": [
    "for df, column in [\n",
    "    (df_chromecast_max_median_up, \"log_bytes_up\"),\n",
    "    (df_chromecast_max_median_down, \"log_bytes_down\"),\n",
    "    (df_chromecast_max_mean_up, \"log_bytes_up\"),\n",
    "    (df_chromecast_max_mean_down, \"log_bytes_down\"),\n",
    "]:\n",
    "    chromecast_hist_bin = calculate_bin(df[column])\n",
    "    fig = plt.figure()\n",
    "    plt.hist(\n",
    "        df[column],\n",
    "        bins=chromecast_hist_bin,\n",
    "        color=(\"blue\" if column == \"log_bytes_up\" else \"red\"),\n",
    "        alpha=0.5,\n",
    "        edgecolor=\"black\",\n",
    "    )\n",
    "    plt.xlabel(\"Bytes\")\n",
    "    plt.ylabel(\"Frequency\")\n",
    "    plt.title(f\"Chromecast Histogram of {column} for Hour \" + str(df[\"hour\"].iloc[0]))\n",
    "    fig.savefig(\n",
    "        f\"../images/chromecast/fourth_section/histogram/chromecast_histogram_{column}_hour_{df['hour'].iloc[0]}.png\",\n",
    "        dpi=fig.dpi,\n",
    "    )"
   ]
  },
  {
   "attachments": {},
   "cell_type": "markdown",
   "metadata": {},
   "source": [
    "### MLE"
   ]
  },
  {
   "attachments": {},
   "cell_type": "markdown",
   "metadata": {},
   "source": [
    "#### Gamma"
   ]
  },
  {
   "cell_type": "code",
   "execution_count": null,
   "metadata": {},
   "outputs": [],
   "source": [
    "for df, column, name in [\n",
    "    (df_chromecast_max_median_up, \"log_bytes_up\", \"chromecast_max_median_up\"),\n",
    "    (df_chromecast_max_median_down, \"log_bytes_down\", \"chromecast_max_median_down\"),\n",
    "    (df_chromecast_max_mean_up, \"log_bytes_up\", \"chromecast_max_mean_up\"),\n",
    "    (df_chromecast_max_mean_down, \"log_bytes_down\", \"chromecast_max_mean_down\"),\n",
    "]:\n",
    "    shape, loc, scale = gamma.fit(df[column])\n",
    "    df_gamma = pd.DataFrame({\"shape\": [shape], \"loc\": [loc], \"scale\": [scale]})\n",
    "    print(f\"Gamma MLE parameters for {name}\")\n",
    "    print(df_gamma.to_markdown())\n",
    "    print()"
   ]
  },
  {
   "attachments": {},
   "cell_type": "markdown",
   "metadata": {},
   "source": [
    "#### Gaussian"
   ]
  },
  {
   "cell_type": "code",
   "execution_count": null,
   "metadata": {},
   "outputs": [],
   "source": [
    "for df, column, dataframe_name in [\n",
    "    (df_chromecast_max_median_up, \"log_bytes_up\", \"df_chromecast_max_median_up\"),\n",
    "    (df_chromecast_max_median_down, \"log_bytes_down\", \"df_chromecast_max_median_down\"),\n",
    "    (df_chromecast_max_mean_up, \"log_bytes_up\", \"df_chromecast_max_mean_up\"),\n",
    "    (df_chromecast_max_mean_down, \"log_bytes_down\", \"df_chromecast_max_mean_down\"),\n",
    "]:\n",
    "    df_mean_median = pd.DataFrame(\n",
    "        {\"mean\": [df[column].mean()], \"median\": [df[column].median()]}\n",
    "    )\n",
    "    print(f\"Mean and Median for {dataframe_name}\")\n",
    "    print(df_mean_median.to_markdown())\n",
    "    print()"
   ]
  },
  {
   "attachments": {},
   "cell_type": "markdown",
   "metadata": {},
   "source": [
    "### Histogram with MLE"
   ]
  },
  {
   "cell_type": "code",
   "execution_count": null,
   "metadata": {},
   "outputs": [],
   "source": [
    "for df, column in [\n",
    "    (df_chromecast_max_median_up, \"log_bytes_up\"),\n",
    "    (df_chromecast_max_median_down, \"log_bytes_down\"),\n",
    "    (df_chromecast_max_mean_up, \"log_bytes_up\"),\n",
    "    (df_chromecast_max_mean_down, \"log_bytes_down\"),\n",
    "]:\n",
    "    fig = plt.figure()\n",
    "    chromecast_hist_bin = calculate_bin(df[column])\n",
    "    plt.hist(\n",
    "        df[column],\n",
    "        bins=chromecast_hist_bin,\n",
    "        color=(\"blue\" if column == \"log_bytes_up\" else \"red\"),\n",
    "        alpha=0.5,\n",
    "        edgecolor=\"black\",\n",
    "        label=\"Histogram\",\n",
    "        density=True,\n",
    "    )\n",
    "\n",
    "    x = np.linspace(df[column].min(), df[column].max(), len(df[column]))\n",
    "\n",
    "    shape, loc, scale = gamma.fit(df[column])\n",
    "    gamma_distribution = gamma.pdf(x, shape, loc, scale)\n",
    "\n",
    "    mean, std = norm.fit(df[column])\n",
    "    gaussian_distribution = norm.pdf(x, mean, std)\n",
    "\n",
    "    plt.plot(x, gamma_distribution, label=\"Gamma\", color=\"green\")\n",
    "    plt.plot(x, gaussian_distribution, label=\"Gaussian\", color=\"orange\")\n",
    "    plt.xlabel(\"Bytes\")\n",
    "    plt.ylabel(\"Frequency\")\n",
    "    plt.title(f\"Chromecast Histogram of {column} for Hour \" + str(df[\"hour\"].iloc[0]))\n",
    "    plt.legend(loc=\"best\")\n",
    "    fig.savefig(\n",
    "        f\"../images/chromecast/fourth_section/histogram_mle/chromecast_histogram_mle_{column}_hour_{df['hour'].iloc[0]}.png\",\n",
    "        dpi=fig.dpi,\n",
    "    )\n",
    "    print(f\"Hour {df['hour'].iloc[0]} - {column} - mean: {mean}, std: {std}\")"
   ]
  },
  {
   "attachments": {},
   "cell_type": "markdown",
   "metadata": {},
   "source": [
    "### Probability Plot"
   ]
  },
  {
   "cell_type": "code",
   "execution_count": null,
   "metadata": {},
   "outputs": [],
   "source": [
    "for df, column, name in [\n",
    "    (df_chromecast_max_median_up, \"log_bytes_up\", \"chromecast_max_median_up\"),\n",
    "    (df_chromecast_max_median_down, \"log_bytes_down\", \"chromecast_max_median_down\"),\n",
    "    (df_chromecast_max_mean_up, \"log_bytes_up\", \"chromecast_max_mean_up\"),\n",
    "    (df_chromecast_max_mean_down, \"log_bytes_down\", \"chromecast_max_mean_down\"),\n",
    "]:\n",
    "    fig, axes = plt.subplots(1, 2, figsize=(18, 5))\n",
    "\n",
    "    fig.suptitle(f'Chromecast {column} Hour {df[\"hour\"].iloc[0]}')\n",
    "\n",
    "    x = df[column]\n",
    "    probplot(\n",
    "        x,\n",
    "        dist=gamma,\n",
    "        sparams=(shape, loc, scale),\n",
    "        plot=axes[0],\n",
    "    )\n",
    "    probplot(\n",
    "        x,\n",
    "        dist=norm,\n",
    "        sparams=(df[column].mean(), df[column].std()),\n",
    "        plot=axes[1],\n",
    "    )\n",
    "\n",
    "    axes[0].set_title(f\"Gamma Distribution - {name}\")\n",
    "    axes[1].set_title(f\"Gaussian Distribution - {name}\")\n",
    "\n",
    "    axes[0].set(xlabel=\"Theoretical Quantiles\", ylabel=\"Ordered Values\")\n",
    "    axes[1].set(xlabel=\"Theoretical Quantiles\", ylabel=\"Ordered Values\")\n",
    "\n",
    "    plt.show()"
   ]
  },
  {
   "attachments": {},
   "cell_type": "markdown",
   "metadata": {},
   "source": [
    "## Smart TV"
   ]
  },
  {
   "attachments": {},
   "cell_type": "markdown",
   "metadata": {},
   "source": [
    "### Filter Dataset"
   ]
  },
  {
   "cell_type": "code",
   "execution_count": null,
   "metadata": {},
   "outputs": [],
   "source": [
    "hour_of_max_median_up_smart_tv = (\n",
    "    df_smart_tv.groupby(\"hour\")[\"log_bytes_up\"].median().idxmax()\n",
    ")\n",
    "hour_of_max_mean_up_smart_tv = (\n",
    "    df_smart_tv.groupby(\"hour\")[\"log_bytes_up\"].mean().idxmax()\n",
    ")\n",
    "hour_of_max_median_down_smart_tv = (\n",
    "    df_smart_tv.groupby(\"hour\")[\"log_bytes_down\"].median().idxmax()\n",
    ")\n",
    "hour_of_max_mean_down_smart_tv = (\n",
    "    df_smart_tv.groupby(\"hour\")[\"log_bytes_down\"].mean().idxmax()\n",
    ")"
   ]
  },
  {
   "cell_type": "code",
   "execution_count": null,
   "metadata": {},
   "outputs": [],
   "source": [
    "print(\n",
    "    f\"\"\"\n",
    "        Hour of max median bytes up: {hour_of_max_median_up_smart_tv},\n",
    "        Hour of max median bytes down: {hour_of_max_median_down_smart_tv},\n",
    "        Hour of max mean bytes up: {hour_of_max_mean_up_smart_tv}, \n",
    "        Hour of max mean bytes down: {hour_of_max_mean_down_smart_tv}\n",
    "    \"\"\"\n",
    ")"
   ]
  },
  {
   "cell_type": "code",
   "execution_count": null,
   "metadata": {},
   "outputs": [],
   "source": [
    "df_smart_tv_max_median_up = df_smart_tv[\n",
    "    df_smart_tv[\"hour\"] == hour_of_max_median_up_smart_tv\n",
    "][[\"device_id\", \"hour\", \"bytes_up\", \"log_bytes_up\"]]\n",
    "\n",
    "df_smart_tv_max_median_down = df_smart_tv[\n",
    "    df_smart_tv[\"hour\"] == hour_of_max_median_down_smart_tv\n",
    "][[\"device_id\", \"hour\", \"bytes_down\", \"log_bytes_down\"]]\n",
    "\n",
    "df_smart_tv_max_mean_up = df_smart_tv[\n",
    "    df_smart_tv[\"hour\"] == hour_of_max_mean_up_smart_tv\n",
    "][[\"device_id\", \"hour\", \"bytes_up\", \"log_bytes_up\"]]\n",
    "\n",
    "df_smart_tv_max_mean_down = df_smart_tv[\n",
    "    df_smart_tv[\"hour\"] == hour_of_max_mean_down_smart_tv\n",
    "][[\"device_id\", \"hour\", \"bytes_down\", \"log_bytes_down\"]]"
   ]
  },
  {
   "attachments": {},
   "cell_type": "markdown",
   "metadata": {},
   "source": [
    "### Histogram"
   ]
  },
  {
   "cell_type": "code",
   "execution_count": null,
   "metadata": {},
   "outputs": [],
   "source": [
    "for df, column in [\n",
    "    (df_smart_tv_max_median_up, \"log_bytes_up\"),\n",
    "    (df_smart_tv_max_median_down, \"log_bytes_down\"),\n",
    "    (df_smart_tv_max_mean_up, \"log_bytes_up\"),\n",
    "    (df_smart_tv_max_mean_down, \"log_bytes_down\"),\n",
    "]:\n",
    "    smart_tv_hist_bin = calculate_bin(df[column])\n",
    "    fig = plt.figure()\n",
    "    plt.hist(\n",
    "        df[column],\n",
    "        bins=smart_tv_hist_bin,\n",
    "        color=(\"blue\" if column == \"log_bytes_up\" else \"red\"),\n",
    "        alpha=0.5,\n",
    "        edgecolor=\"black\",\n",
    "    )\n",
    "    plt.xlabel(\"Bytes\")\n",
    "    plt.ylabel(\"Frequency\")\n",
    "    plt.title(f\"Smart TV Histogram of {column} for Hour \" + str(df[\"hour\"].iloc[0]))\n",
    "    fig.savefig(\n",
    "        f\"../images/smart_tv/fourth_section/histogram/smart_tv_histogram_{column}_hour_{df['hour'].iloc[0]}.png\",\n",
    "        dpi=fig.dpi,\n",
    "    )"
   ]
  },
  {
   "attachments": {},
   "cell_type": "markdown",
   "metadata": {},
   "source": [
    "### MLE"
   ]
  },
  {
   "attachments": {},
   "cell_type": "markdown",
   "metadata": {},
   "source": [
    "#### Gamma"
   ]
  },
  {
   "cell_type": "code",
   "execution_count": null,
   "metadata": {},
   "outputs": [],
   "source": [
    "for df, column, name in [\n",
    "    (df_smart_tv_max_median_up, \"log_bytes_up\", \"smart_tv_max_median_up\"),\n",
    "    (df_smart_tv_max_median_down, \"log_bytes_down\", \"smart_tv_max_median_down\"),\n",
    "    (df_smart_tv_max_mean_up, \"log_bytes_up\", \"smart_tv_max_mean_up\"),\n",
    "    (df_smart_tv_max_mean_down, \"log_bytes_down\", \"smart_tv_max_mean_down\"),\n",
    "]:\n",
    "    shape, loc, scale = gamma.fit(df[column])\n",
    "    df_gamma = pd.DataFrame({\"shape\": [shape], \"loc\": [loc], \"scale\": [scale]})\n",
    "    print(f\"Gamma MLE parameters for {name}\")\n",
    "    print(df_gamma.to_markdown())\n",
    "    print()"
   ]
  },
  {
   "attachments": {},
   "cell_type": "markdown",
   "metadata": {},
   "source": [
    "#### Gaussian"
   ]
  },
  {
   "cell_type": "code",
   "execution_count": null,
   "metadata": {},
   "outputs": [],
   "source": [
    "for df, column, dataframe_name in [\n",
    "    (df_smart_tv_max_median_up, \"log_bytes_up\", \"df_smart_tv_max_median_up\"),\n",
    "    (df_smart_tv_max_median_down, \"log_bytes_down\", \"df_smart_tv_max_median_down\"),\n",
    "    (df_smart_tv_max_mean_up, \"log_bytes_up\", \"df_smart_tv_max_mean_up\"),\n",
    "    (df_smart_tv_max_mean_down, \"log_bytes_down\", \"df_smart_tv_max_mean_down\"),\n",
    "]:\n",
    "    df_mean_median = pd.DataFrame(\n",
    "        {\"mean\": [df[column].mean()], \"median\": [df[column].median()]}\n",
    "    )\n",
    "    print(f\"Mean and Median for {dataframe_name}\")\n",
    "    print(df_mean_median.to_markdown())\n",
    "    print()"
   ]
  },
  {
   "attachments": {},
   "cell_type": "markdown",
   "metadata": {},
   "source": [
    "### Histogram with MLE"
   ]
  },
  {
   "cell_type": "code",
   "execution_count": null,
   "metadata": {},
   "outputs": [],
   "source": [
    "for df, column in [\n",
    "    (df_smart_tv_max_median_up, \"log_bytes_up\"),\n",
    "    (df_smart_tv_max_median_down, \"log_bytes_down\"),\n",
    "    (df_smart_tv_max_mean_up, \"log_bytes_up\"),\n",
    "    (df_smart_tv_max_mean_down, \"log_bytes_down\"),\n",
    "]:\n",
    "    fig = plt.figure()\n",
    "    smart_tv_hist_bin = calculate_bin(df[column])\n",
    "    plt.hist(\n",
    "        df[column],\n",
    "        bins=smart_tv_hist_bin,\n",
    "        color=(\"blue\" if column == \"log_bytes_up\" else \"red\"),\n",
    "        alpha=0.5,\n",
    "        edgecolor=\"black\",\n",
    "        label=\"Histogram\",\n",
    "        density=True,\n",
    "    )\n",
    "\n",
    "    x = np.linspace(df[column].min(), df[column].max(), len(df[column]))\n",
    "\n",
    "    shape, loc, scale = gamma.fit(df[column])\n",
    "    gamma_distribution = gamma.pdf(x, shape, loc, scale)\n",
    "\n",
    "    mean, std = norm.fit(df[column])\n",
    "    gaussian_distribution = norm.pdf(x, mean, std)\n",
    "\n",
    "    plt.plot(x, gamma_distribution, label=\"Gamma\", color=\"green\")\n",
    "    plt.plot(x, gaussian_distribution, label=\"Gaussian\", color=\"orange\")\n",
    "    plt.xlabel(\"Bytes\")\n",
    "    plt.ylabel(\"Frequency\")\n",
    "    plt.title(f\"Smart TV Histogram of {column} for Hour \" + str(df[\"hour\"].iloc[0]))\n",
    "    plt.legend(loc=\"best\")\n",
    "    fig.savefig(\n",
    "        f\"../images/smart_tv/fourth_section/histogram_mle/smart_tv_histogram_mle_{column}_hour_{df['hour'].iloc[0]}.png\",\n",
    "        dpi=fig.dpi,\n",
    "    )\n",
    "    print(f\"Hour {df['hour'].iloc[0]} - {column} - mean: {mean}, std: {std}\")"
   ]
  },
  {
   "attachments": {},
   "cell_type": "markdown",
   "metadata": {},
   "source": [
    "### Probability Plot"
   ]
  },
  {
   "cell_type": "code",
   "execution_count": null,
   "metadata": {},
   "outputs": [],
   "source": [
    "for df, column, name in [\n",
    "    (df_smart_tv_max_median_up, \"log_bytes_up\", \"smart_tv_max_median_up\"),\n",
    "    (df_smart_tv_max_median_down, \"log_bytes_down\", \"smart_tv_max_median_down\"),\n",
    "    (df_smart_tv_max_mean_up, \"log_bytes_up\", \"smart_tv_max_mean_up\"),\n",
    "    (df_smart_tv_max_mean_down, \"log_bytes_down\", \"smart_tv_max_mean_down\"),\n",
    "]:\n",
    "    fig, axes = plt.subplots(1, 2, figsize=(18, 5))\n",
    "\n",
    "    fig.suptitle(f'Smart TV {column} Hour {df[\"hour\"].iloc[0]}')\n",
    "\n",
    "    x = df[column]\n",
    "    probplot(x, dist=gamma, sparams=(shape, loc, scale), plot=axes[0])\n",
    "    probplot(x, dist=norm, sparams=(df[column].mean(), df[column].std()), plot=axes[1])\n",
    "\n",
    "    axes[0].set_title(f\"Gamma Distribution - {name}\")\n",
    "    axes[1].set_title(f\"Gaussian Distribution - {name}\")\n",
    "\n",
    "    axes[0].set(xlabel=\"Theoretical Quantiles\", ylabel=\"Ordered Values\")\n",
    "    axes[1].set(xlabel=\"Theoretical Quantiles\", ylabel=\"Ordered Values\")\n",
    "\n",
    "    plt.show()"
   ]
  },
  {
   "attachments": {},
   "cell_type": "markdown",
   "metadata": {},
   "source": [
    "# Fifth Section"
   ]
  },
  {
   "attachments": {},
   "cell_type": "markdown",
   "metadata": {},
   "source": [
    "## Sampling Correlation Coefficient"
   ]
  },
  {
   "cell_type": "code",
   "execution_count": null,
   "metadata": {},
   "outputs": [],
   "source": [
    "for df1, df2, name in [\n",
    "    (\n",
    "        df_smart_tv_max_median_up, \n",
    "        df_smart_tv_max_median_down, \n",
    "        \"smart_tv_max_median\"),\n",
    "    (\n",
    "        df_smart_tv_max_mean_up, \n",
    "        df_smart_tv_max_mean_down, \n",
    "        \"smart_tv_max_mean\"),\n",
    "    (\n",
    "        df_chromecast_max_median_up,\n",
    "        df_chromecast_max_median_down,\n",
    "        \"chromecast_max_median\",\n",
    "    ),\n",
    "    (\n",
    "        df_chromecast_max_mean_up, \n",
    "        df_chromecast_max_mean_down, \n",
    "        \"chromecast_max_mean\"),\n",
    "]:\n",
    "    if df1.shape[0] != df2.shape[0]:\n",
    "        if df1.shape[0] > df2.shape[0]:\n",
    "            df1 = df1.sample(n=df2.shape[0])\n",
    "        else:\n",
    "            df2 = df2.sample(n=df1.shape[0])\n",
    "\n",
    "    pearson_coef, p_value = pearsonr(df1[\"log_bytes_up\"], df2[\"log_bytes_down\"])\n",
    "    df_coef = pd.DataFrame(\n",
    "        {\"pearson_coef\": [pearson_coef], \"p_value\": [p_value], \"name\": [name]}\n",
    "    )\n",
    "    print(f\"Pearson's correlation coefficient for {name}\")\n",
    "    print(df_coef.to_markdown())\n",
    "    print()"
   ]
  },
  {
   "attachments": {},
   "cell_type": "markdown",
   "metadata": {},
   "source": [
    "## Sample Correlation Coefficient Graph"
   ]
  },
  {
   "cell_type": "code",
   "execution_count": null,
   "metadata": {},
   "outputs": [],
   "source": [
    "for df1, df2, name in [\n",
    "    (\n",
    "        df_smart_tv_max_median_up,\n",
    "        df_smart_tv_max_median_down,\n",
    "        \"smart_tv_max_median_up_smart_tv_max_median_down\",\n",
    "    ),\n",
    "    (\n",
    "        df_smart_tv_max_mean_up,\n",
    "        df_smart_tv_max_mean_down,\n",
    "        \"smart_tv_max_mean_up_smart_tv_max_mean_down\",\n",
    "    ),\n",
    "    (\n",
    "        df_chromecast_max_median_up,\n",
    "        df_chromecast_max_median_down,\n",
    "        \"chromecast_max_median_up_chromecast_max_median_down\",\n",
    "    ),\n",
    "    (\n",
    "        df_chromecast_max_mean_up,\n",
    "        df_chromecast_max_mean_down,\n",
    "        \"chromecast_max_mean_up_chromecast_max_mean_down\",\n",
    "    ),\n",
    "]:\n",
    "    if df1.shape[0] != df2.shape[0]:\n",
    "        if df1.shape[0] > df2.shape[0]:\n",
    "            df1 = df1.sample(n=df2.shape[0])\n",
    "        else:\n",
    "            df2 = df2.sample(n=df1.shape[0])\n",
    "\n",
    "    fig = plt.figure()\n",
    "    plt.scatter(df1[\"log_bytes_up\"], df2[\"log_bytes_down\"])\n",
    "    plt.xlabel(\"Upload Rate\")\n",
    "    plt.ylabel(\"Download Rate\")\n",
    "    plt.title(f\"Scatter Plot for {name}\")\n",
    "    fig.savefig(\n",
    "        f\"../images/fifth_section/scatter_plot/scatter_plot_{name}.png\",\n",
    "        dpi=fig.dpi,\n",
    "    )\n",
    "    plt.show()"
   ]
  },
  {
   "attachments": {},
   "cell_type": "markdown",
   "metadata": {},
   "source": [
    "# Sixth Section"
   ]
  },
  {
   "attachments": {},
   "cell_type": "markdown",
   "metadata": {},
   "source": [
    "## G-test"
   ]
  },
  {
   "cell_type": "code",
   "execution_count": null,
   "metadata": {},
   "outputs": [],
   "source": []
  }
 ],
 "metadata": {
  "kernelspec": {
   "display_name": "Python 3",
   "language": "python",
   "name": "python3"
  },
  "language_info": {
   "codemirror_mode": {
    "name": "ipython",
    "version": 3
   },
   "file_extension": ".py",
   "mimetype": "text/x-python",
   "name": "python",
   "nbconvert_exporter": "python",
   "pygments_lexer": "ipython3",
   "version": "3.10.9"
  },
  "orig_nbformat": 4,
  "vscode": {
   "interpreter": {
    "hash": "a6ac60002819e048c10cb453e512591b611cadd0fa6445e6d3bcb42557ef5ea9"
   }
  }
 },
 "nbformat": 4,
 "nbformat_minor": 2
}
