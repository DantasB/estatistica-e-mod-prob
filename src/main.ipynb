{
 "cells": [
  {
   "attachments": {},
   "cell_type": "markdown",
   "metadata": {},
   "source": [
    "# Libraries"
   ]
  },
  {
   "cell_type": "code",
   "execution_count": null,
   "metadata": {},
   "outputs": [],
   "source": [
    "import pandas as pd\n",
    "import numpy as np\n",
    "import matplotlib.pyplot as plt"
   ]
  },
  {
   "attachments": {},
   "cell_type": "markdown",
   "metadata": {},
   "source": [
    "# Read Data"
   ]
  },
  {
   "cell_type": "code",
   "execution_count": null,
   "metadata": {},
   "outputs": [],
   "source": [
    "df_chromecast = pd.read_csv(\"../data/dataset_chromecast.csv\")\n",
    "df_smart_tv = pd.read_csv(\"../data/dataset_smart-tv.csv\")"
   ]
  },
  {
   "attachments": {},
   "cell_type": "markdown",
   "metadata": {},
   "source": [
    "# Data Preprocessing"
   ]
  },
  {
   "attachments": {},
   "cell_type": "markdown",
   "metadata": {},
   "source": [
    "## Log Transformation"
   ]
  },
  {
   "attachments": {},
   "cell_type": "markdown",
   "metadata": {},
   "source": [
    "### Chromecast"
   ]
  },
  {
   "cell_type": "code",
   "execution_count": null,
   "metadata": {},
   "outputs": [],
   "source": [
    "df_chromecast[\"log_bytes_down\"] = np.log(df_chromecast[\"bytes_down\"] + 1)\n",
    "df_chromecast[\"log_bytes_up\"] = np.log(df_chromecast[\"bytes_up\"] + 1)"
   ]
  },
  {
   "attachments": {},
   "cell_type": "markdown",
   "metadata": {},
   "source": [
    "### Smart TV"
   ]
  },
  {
   "cell_type": "code",
   "execution_count": null,
   "metadata": {},
   "outputs": [],
   "source": [
    "df_smart_tv[\"log_bytes_down\"] = np.log(df_smart_tv[\"bytes_down\"] + 1)\n",
    "df_smart_tv[\"log_bytes_up\"] = np.log(df_smart_tv[\"bytes_up\"] + 1)"
   ]
  },
  {
   "attachments": {},
   "cell_type": "markdown",
   "metadata": {},
   "source": [
    "## Create Hour Column"
   ]
  },
  {
   "attachments": {},
   "cell_type": "markdown",
   "metadata": {},
   "source": [
    "### Chromecast"
   ]
  },
  {
   "cell_type": "code",
   "execution_count": null,
   "metadata": {},
   "outputs": [],
   "source": [
    "df_chromecast[\"hour\"] = df_chromecast[\"date_hour\"].apply(\n",
    "    lambda x: int(x.split(\" \")[1].split(\":\")[0])\n",
    ")"
   ]
  },
  {
   "attachments": {},
   "cell_type": "markdown",
   "metadata": {},
   "source": [
    "### Smart TV"
   ]
  },
  {
   "cell_type": "code",
   "execution_count": null,
   "metadata": {},
   "outputs": [],
   "source": [
    "df_smart_tv[\"hour\"] = df_smart_tv[\"date_hour\"].apply(\n",
    "    lambda x: int(x.split(\" \")[1].split(\":\")[0])\n",
    ")"
   ]
  },
  {
   "attachments": {},
   "cell_type": "markdown",
   "metadata": {},
   "source": [
    "# Data Analysis (General)"
   ]
  },
  {
   "attachments": {},
   "cell_type": "markdown",
   "metadata": {},
   "source": [
    "## Chromecast"
   ]
  },
  {
   "attachments": {},
   "cell_type": "markdown",
   "metadata": {},
   "source": [
    "### Histogram"
   ]
  },
  {
   "cell_type": "code",
   "execution_count": null,
   "metadata": {},
   "outputs": [],
   "source": [
    "chromecast_hist_bin = int(1 + 3.3 * np.log10(len(df_chromecast[\"log_bytes_up\"])))\n",
    "fig = plt.figure()\n",
    "plt.hist(\n",
    "    df_chromecast[\"log_bytes_up\"],\n",
    "    bins=chromecast_hist_bin,\n",
    "    color=\"blue\",\n",
    "    alpha=0.5,\n",
    "    edgecolor=\"black\",\n",
    ")\n",
    "plt.xlabel(\"Bytes Up\")\n",
    "plt.ylabel(\"Frequency\")\n",
    "plt.title(\"Chromecast histogram of Bytes Up\")\n",
    "fig.savefig(\n",
    "    \"../images/chromecast/general/histogram/chromecast_hist_bytes_up.png\", \n",
    "    dpi=fig.dpi\n",
    ")"
   ]
  },
  {
   "cell_type": "code",
   "execution_count": null,
   "metadata": {},
   "outputs": [],
   "source": [
    "chromecast_hist_bin = int(1 + 3.3 * np.log10(len(df_chromecast[\"log_bytes_down\"])))\n",
    "fig = plt.figure()\n",
    "plt.hist(\n",
    "    df_chromecast[\"log_bytes_down\"],\n",
    "    bins=chromecast_hist_bin,\n",
    "    color=\"red\",\n",
    "    alpha=0.5,\n",
    "    edgecolor=\"black\",\n",
    ")\n",
    "plt.xlabel(\"Bytes Down\")\n",
    "plt.ylabel(\"Frequency\")\n",
    "plt.title(\"Chromecast histogram of Bytes Down\")\n",
    "fig.savefig(\n",
    "    \"../images/chromecast/general/histogram/chromecast_hist_bytes_down.png\", \n",
    "    dpi=fig.dpi\n",
    ")"
   ]
  },
  {
   "attachments": {},
   "cell_type": "markdown",
   "metadata": {},
   "source": [
    "### Empirical Distribution Function"
   ]
  },
  {
   "cell_type": "code",
   "execution_count": null,
   "metadata": {},
   "outputs": [],
   "source": [
    "fig = plt.figure()\n",
    "plt.plot(\n",
    "    df_chromecast[\"log_bytes_up\"].sort_values(),\n",
    "    np.linspace(0, 1, len(df_chromecast[\"log_bytes_up\"])),\n",
    "    color=\"blue\",\n",
    "    marker=\".\",\n",
    ")\n",
    "plt.xlabel(\"Bytes Up\")\n",
    "plt.ylabel(\"Fx(x)\")\n",
    "plt.title(\"Chromecast Empirical Distribution Function of Bytes Up\")\n",
    "fig.savefig(\n",
    "    \"../images/chromecast/general/edf/chromecast_edf_bytes_up.png\", \n",
    "    dpi=fig.dpi\n",
    ")"
   ]
  },
  {
   "cell_type": "code",
   "execution_count": null,
   "metadata": {},
   "outputs": [],
   "source": [
    "fig = plt.figure()\n",
    "plt.plot(\n",
    "    df_chromecast[\"log_bytes_down\"].sort_values(),\n",
    "    np.linspace(0, 1, len(df_chromecast[\"log_bytes_down\"])),\n",
    "    color=\"red\",\n",
    "    marker=\".\",\n",
    ")\n",
    "plt.xlabel(\"Bytes Down\")\n",
    "plt.ylabel(\"Fx(x)\")\n",
    "plt.title(\"Chromecast Empirical Distribution Function of Bytes Down\")\n",
    "fig.savefig(\n",
    "    \"../images/chromecast/general/edf/chromecast_edf_bytes_down.png\", \n",
    "    dpi=fig.dpi\n",
    ")"
   ]
  },
  {
   "attachments": {},
   "cell_type": "markdown",
   "metadata": {},
   "source": [
    "### Boxplot"
   ]
  },
  {
   "cell_type": "code",
   "execution_count": null,
   "metadata": {},
   "outputs": [],
   "source": [
    "fig = plt.figure()\n",
    "plt.boxplot(\n",
    "    [df_chromecast[\"log_bytes_up\"], df_chromecast[\"log_bytes_down\"]],\n",
    "    labels=[\"Bytes Up\", \"Bytes Down\"],\n",
    "    patch_artist=True,\n",
    "    boxprops=dict(facecolor=\"cyan\", color=\"black\"),\n",
    "    medianprops=dict(color=\"black\"),\n",
    "    whiskerprops=dict(color=\"black\"),\n",
    "    capprops=dict(color=\"black\"),\n",
    ")\n",
    "plt.ylabel(\"Bytes\")\n",
    "plt.title(\"Chromecast Boxplot of Bytes Up and Bytes Down\")\n",
    "fig.savefig(\n",
    "    \"../images/chromecast/general/boxplot/chromecast_boxplot_bytes_up_down.png\",\n",
    "    dpi=fig.dpi,\n",
    ")"
   ]
  },
  {
   "attachments": {},
   "cell_type": "markdown",
   "metadata": {},
   "source": [
    "### Statistical Analysis"
   ]
  },
  {
   "cell_type": "code",
   "execution_count": null,
   "metadata": {},
   "outputs": [],
   "source": [
    "chromecast_bytes_up_down = pd.DataFrame(\n",
    "    {\n",
    "        \"Bytes Up\": [\n",
    "            df_chromecast[\"log_bytes_up\"].mean(),\n",
    "            df_chromecast[\"log_bytes_up\"].var(),\n",
    "            df_chromecast[\"log_bytes_up\"].std(),\n",
    "        ],\n",
    "        \"Bytes Down\": [\n",
    "            df_chromecast[\"log_bytes_down\"].mean(),\n",
    "            df_chromecast[\"log_bytes_down\"].var(),\n",
    "            df_chromecast[\"log_bytes_down\"].std(),\n",
    "        ],\n",
    "    },\n",
    "    index=[\"Mean\", \"Variance\", \"Standard Deviation\"],\n",
    ")\n",
    "\n",
    "chromecast_bytes_up_down"
   ]
  },
  {
   "attachments": {},
   "cell_type": "markdown",
   "metadata": {},
   "source": [
    "## Smart TV"
   ]
  },
  {
   "attachments": {},
   "cell_type": "markdown",
   "metadata": {},
   "source": [
    "### Histogram"
   ]
  },
  {
   "cell_type": "code",
   "execution_count": null,
   "metadata": {},
   "outputs": [],
   "source": [
    "smart_tv_hist_bin = int(1 + 3.3 * np.log10(len(df_smart_tv[\"log_bytes_up\"])))\n",
    "fig = plt.figure()\n",
    "plt.hist(\n",
    "    df_smart_tv[\"log_bytes_up\"],\n",
    "    bins=smart_tv_hist_bin,\n",
    "    color=\"blue\",\n",
    "    alpha=0.5,\n",
    "    edgecolor=\"black\",\n",
    ")\n",
    "plt.xlabel(\"Bytes Up\")\n",
    "plt.ylabel(\"Frequency\")\n",
    "plt.title(\"Smart TV histogram of Bytes Up\")\n",
    "fig.savefig(\n",
    "    \"../images/smart_tv/general/histogram/smart_tv_hist_bytes_up.png\", \n",
    "    dpi=fig.dpi\n",
    ")"
   ]
  },
  {
   "cell_type": "code",
   "execution_count": null,
   "metadata": {},
   "outputs": [],
   "source": [
    "smart_tv_hist_bin = int(1 + 3.3 * np.log10(len(df_smart_tv[\"log_bytes_down\"])))\n",
    "fig = plt.figure()\n",
    "plt.hist(\n",
    "    df_smart_tv[\"log_bytes_down\"],\n",
    "    bins=smart_tv_hist_bin,\n",
    "    color=\"red\",\n",
    "    alpha=0.5,\n",
    "    edgecolor=\"black\",\n",
    ")\n",
    "plt.xlabel(\"Bytes Down\")\n",
    "plt.ylabel(\"Frequency\")\n",
    "plt.title(\"Smart TV histogram of Bytes Down\")\n",
    "fig.savefig(\n",
    "    \"../images/smart_tv/general/histogram/smart_tv_hist_bytes_down.png\", \n",
    "    dpi=fig.dpi\n",
    ")"
   ]
  },
  {
   "attachments": {},
   "cell_type": "markdown",
   "metadata": {},
   "source": [
    "### Empirical Distribution Function"
   ]
  },
  {
   "cell_type": "code",
   "execution_count": null,
   "metadata": {},
   "outputs": [],
   "source": [
    "fig = plt.figure()\n",
    "plt.plot(\n",
    "    df_smart_tv[\"log_bytes_up\"].sort_values(),\n",
    "    np.linspace(0, 1, len(df_smart_tv[\"log_bytes_up\"])),\n",
    "    color=\"blue\",\n",
    "    marker=\".\",\n",
    ")\n",
    "plt.xlabel(\"Bytes Up\")\n",
    "plt.ylabel(\"Fx(x)\")\n",
    "plt.title(\"Smart TV Empirical Distribution Function of Bytes Up\")\n",
    "fig.savefig(\n",
    "    \"../images/smart_tv/general/edf/smart_tv_edf_bytes_up.png\", \n",
    "    dpi=fig.dpi\n",
    ")"
   ]
  },
  {
   "cell_type": "code",
   "execution_count": null,
   "metadata": {},
   "outputs": [],
   "source": [
    "fig = plt.figure()\n",
    "plt.plot(\n",
    "    df_smart_tv[\"log_bytes_down\"].sort_values(),\n",
    "    np.linspace(0, 1, len(df_smart_tv[\"log_bytes_down\"])),\n",
    "    color=\"red\",\n",
    "    marker=\".\",\n",
    ")\n",
    "plt.xlabel(\"Bytes Down\")\n",
    "plt.ylabel(\"Fx(x)\")\n",
    "plt.title(\"Smart TV Empirical Distribution Function of Bytes Down\")\n",
    "fig.savefig(\n",
    "    \"../images/smart_tv/general/edf/smart_tv_edf_bytes_down.png\", \n",
    "    dpi=fig.dpi\n",
    ")"
   ]
  },
  {
   "attachments": {},
   "cell_type": "markdown",
   "metadata": {},
   "source": [
    "### Boxplot"
   ]
  },
  {
   "cell_type": "code",
   "execution_count": null,
   "metadata": {},
   "outputs": [],
   "source": [
    "fig = plt.figure()\n",
    "plt.boxplot(\n",
    "    [df_smart_tv[\"log_bytes_up\"], df_smart_tv[\"log_bytes_down\"]],\n",
    "    labels=[\"Bytes Up\", \"Bytes Down\"],\n",
    "    patch_artist=True,\n",
    "    boxprops=dict(facecolor=\"cyan\", color=\"black\"),\n",
    "    medianprops=dict(color=\"black\"),\n",
    "    whiskerprops=dict(color=\"black\"),\n",
    "    capprops=dict(color=\"black\"),\n",
    ")\n",
    "plt.ylabel(\"Bytes\")\n",
    "plt.title(\"Smart TV Boxplot of Bytes Up and Bytes Down\")\n",
    "fig.savefig(\n",
    "    \"../images/smart_tv/general/boxplot/smart_tv_boxplot_bytes_up_down.png\", \n",
    "    dpi=fig.dpi\n",
    ")"
   ]
  },
  {
   "attachments": {},
   "cell_type": "markdown",
   "metadata": {},
   "source": [
    "### Statistical Analysis"
   ]
  },
  {
   "cell_type": "code",
   "execution_count": null,
   "metadata": {},
   "outputs": [],
   "source": [
    "smart_tv_bytes_up_down = pd.DataFrame(\n",
    "    {\n",
    "        \"Bytes Up\": [\n",
    "            df_smart_tv[\"log_bytes_up\"].mean(),\n",
    "            df_smart_tv[\"log_bytes_up\"].var(),\n",
    "            df_smart_tv[\"log_bytes_up\"].std(),\n",
    "        ],\n",
    "        \"Bytes Down\": [\n",
    "            df_smart_tv[\"log_bytes_down\"].mean(),\n",
    "            df_smart_tv[\"log_bytes_down\"].var(),\n",
    "            df_smart_tv[\"log_bytes_down\"].std(),\n",
    "        ],\n",
    "    },\n",
    "    index=[\"Mean\", \"Variance\", \"Standard Deviation\"],\n",
    ")\n",
    "smart_tv_bytes_up_down"
   ]
  },
  {
   "attachments": {},
   "cell_type": "markdown",
   "metadata": {},
   "source": [
    "# Data Analysis (Hourly)"
   ]
  },
  {
   "attachments": {},
   "cell_type": "markdown",
   "metadata": {},
   "source": [
    "## Chromecast"
   ]
  },
  {
   "attachments": {},
   "cell_type": "markdown",
   "metadata": {},
   "source": [
    "### Boxplot"
   ]
  },
  {
   "cell_type": "code",
   "execution_count": null,
   "metadata": {},
   "outputs": [],
   "source": [
    "for hour in range(0, 24):\n",
    "    fig = plt.figure()\n",
    "    plt.boxplot(\n",
    "        [\n",
    "            df_chromecast[df_chromecast[\"hour\"] == hour][\"log_bytes_up\"],\n",
    "            df_chromecast[df_chromecast[\"hour\"] == hour][\"log_bytes_down\"],\n",
    "        ],\n",
    "        labels=[\"Bytes Up\", \"Bytes Down\"],\n",
    "        patch_artist=True,\n",
    "        boxprops=dict(facecolor=\"cyan\", color=\"black\"),\n",
    "        medianprops=dict(color=\"black\"),\n",
    "        whiskerprops=dict(color=\"black\"),\n",
    "        capprops=dict(color=\"black\"),\n",
    "    )\n",
    "    plt.ylabel(\"Bytes\")\n",
    "    plt.title(\"Chromecast Boxplot of Bytes Up and Bytes Down for Hour \" + str(hour))\n",
    "    fig.savefig(\n",
    "        f\"../images/chromecast/hourly/boxplot/chromecast_boxplot_bytes_up_down_hour_{hour}.png\",\n",
    "        dpi=fig.dpi,\n",
    "    )"
   ]
  },
  {
   "attachments": {},
   "cell_type": "markdown",
   "metadata": {},
   "source": [
    "### Statistical Analysis"
   ]
  },
  {
   "cell_type": "code",
   "execution_count": null,
   "metadata": {},
   "outputs": [],
   "source": [
    "fig = plt.figure()\n",
    "plt.plot(df_chromecast.groupby(\"hour\")[\"log_bytes_up\"].mean(), color=\"red\", marker=\".\")\n",
    "plt.plot(df_chromecast.groupby(\"hour\")[\"log_bytes_up\"].var(), color=\"green\", marker=\".\")\n",
    "plt.plot(df_chromecast.groupby(\"hour\")[\"log_bytes_up\"].std(), color=\"blue\", marker=\".\")\n",
    "plt.xlabel(\"Hour\")\n",
    "plt.ylabel(\"Bytes\")\n",
    "plt.legend([\"Mean\", \"Variance\", \"Standard Deviation\"])\n",
    "plt.title(\"Chromecast Bytes Up Mean, Variance and Standard Deviation by Hour\")\n",
    "fig.savefig(\n",
    "    \"../images/chromecast/hourly/statistical_analysis/chromecast_line_bytes_up_mean_var_std_hour.png\",\n",
    "    dpi=fig.dpi,\n",
    ")"
   ]
  },
  {
   "attachments": {},
   "cell_type": "markdown",
   "metadata": {},
   "source": [
    "## Smart TV"
   ]
  },
  {
   "attachments": {},
   "cell_type": "markdown",
   "metadata": {},
   "source": [
    "### Boxplot"
   ]
  },
  {
   "cell_type": "code",
   "execution_count": null,
   "metadata": {},
   "outputs": [],
   "source": [
    "for hour in range(0, 24):\n",
    "    fig = plt.figure()\n",
    "    plt.boxplot(\n",
    "        [\n",
    "            df_smart_tv[df_smart_tv[\"hour\"] == hour][\"log_bytes_up\"],\n",
    "            df_smart_tv[df_smart_tv[\"hour\"] == hour][\"log_bytes_down\"],\n",
    "        ],\n",
    "        labels=[\"Bytes Up\", \"Bytes Down\"],\n",
    "        patch_artist=True,\n",
    "        boxprops=dict(facecolor=\"cyan\", color=\"black\"),\n",
    "        medianprops=dict(color=\"black\"),\n",
    "        whiskerprops=dict(color=\"black\"),\n",
    "        capprops=dict(color=\"black\"),\n",
    "    )\n",
    "    plt.ylabel(\"Bytes\")\n",
    "    plt.title(\"Smart TV Boxplot of Bytes Up and Bytes Down for Hour \" + str(hour))\n",
    "    fig.savefig(\n",
    "        f\"../images/smart_tv/hourly/boxplot/smart_tv_boxplot_bytes_up_down_hour_{hour}.png\",\n",
    "        dpi=fig.dpi,\n",
    "    )"
   ]
  },
  {
   "attachments": {},
   "cell_type": "markdown",
   "metadata": {},
   "source": [
    "### Statistical Analysis"
   ]
  },
  {
   "cell_type": "code",
   "execution_count": null,
   "metadata": {},
   "outputs": [],
   "source": [
    "fig = plt.figure()\n",
    "plt.plot(df_smart_tv.groupby(\"hour\")[\"log_bytes_up\"].mean(), color=\"red\", marker=\".\")\n",
    "plt.plot(df_smart_tv.groupby(\"hour\")[\"log_bytes_up\"].var(), color=\"green\", marker=\".\")\n",
    "plt.plot(df_smart_tv.groupby(\"hour\")[\"log_bytes_up\"].std(), color=\"blue\", marker=\".\")\n",
    "plt.xlabel(\"Hour\")\n",
    "plt.ylabel(\"Bytes\")\n",
    "plt.legend([\"Mean\", \"Variance\", \"Standard Deviation\"])\n",
    "plt.title(\"Smart TV Bytes Up Mean, Variance and Standard Deviation by Hour\")\n",
    "fig.savefig(\n",
    "    \"../images/smart_tv/hourly/statistical_analysis/smart_tv_line_bytes_up_mean_var_std_hour.png\",\n",
    "    dpi=fig.dpi,\n",
    ")"
   ]
  }
 ],
 "metadata": {
  "kernelspec": {
   "display_name": "Python 3",
   "language": "python",
   "name": "python3"
  },
  "language_info": {
   "codemirror_mode": {
    "name": "ipython",
    "version": 3
   },
   "file_extension": ".py",
   "mimetype": "text/x-python",
   "name": "python",
   "nbconvert_exporter": "python",
   "pygments_lexer": "ipython3",
   "version": "3.10.9"
  },
  "orig_nbformat": 4,
  "vscode": {
   "interpreter": {
    "hash": "a6ac60002819e048c10cb453e512591b611cadd0fa6445e6d3bcb42557ef5ea9"
   }
  }
 },
 "nbformat": 4,
 "nbformat_minor": 2
}
