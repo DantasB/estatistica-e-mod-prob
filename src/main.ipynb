{
 "cells": [
  {
   "attachments": {},
   "cell_type": "markdown",
   "metadata": {},
   "source": [
    "# Libraries"
   ]
  },
  {
   "cell_type": "code",
   "execution_count": 38,
   "metadata": {},
   "outputs": [],
   "source": [
    "import pandas as pd\n",
    "import numpy as np\n",
    "import matplotlib.pyplot as plt\n",
    "from scipy.stats import gamma, norm, probplot, pearsonr, power_divergence\n",
    "from typing import List, Tuple\n",
    "\n",
    "import warnings\n",
    "\n",
    "warnings.filterwarnings(\"ignore\")"
   ]
  },
  {
   "attachments": {},
   "cell_type": "markdown",
   "metadata": {},
   "source": [
    "# Auxiliary functions"
   ]
  },
  {
   "attachments": {},
   "cell_type": "markdown",
   "metadata": {},
   "source": [
    "## calculate_bin(data_column) -> int"
   ]
  },
  {
   "cell_type": "code",
   "execution_count": 27,
   "metadata": {},
   "outputs": [],
   "source": [
    "def calculate_bin(data_column) -> int:\n",
    "    return int(1 + 3.3 * np.log10(len(data_column)))"
   ]
  },
  {
   "attachments": {},
   "cell_type": "markdown",
   "metadata": {},
   "source": [
    "## _generate_bin_interval(data_column) -> List[float]"
   ]
  },
  {
   "cell_type": "code",
   "execution_count": 35,
   "metadata": {},
   "outputs": [],
   "source": [
    "def _generate_bin_interval(data_column) -> List[float]:\n",
    "    bin_interval = []\n",
    "    bin_size = calculate_bin(data_column)\n",
    "    min_value = data_column.min()\n",
    "    max_value = data_column.max()\n",
    "    bin_interval.append(min_value)\n",
    "    for i in range(1, bin_size):\n",
    "        bin_interval.append(min_value + (max_value - min_value) / bin_size * i)\n",
    "    bin_interval.append(max_value)\n",
    "    return bin_interval"
   ]
  },
  {
   "attachments": {},
   "cell_type": "markdown",
   "metadata": {},
   "source": [
    "## segment_data_into_bins(first_dataset, second_dataset, column) -> Tuple[pd.DataFrame, pd.DataFrame]"
   ]
  },
  {
   "cell_type": "code",
   "execution_count": 66,
   "metadata": {},
   "outputs": [],
   "source": [
    "def segment_data_into_bins(first_dataset, second_dataset, column) -> Tuple[pd.DataFrame, pd.DataFrame]:\n",
    "    bins = _generate_bin_interval(first_dataset[column] if len(first_dataset) < len(second_dataset) else second_dataset[column])\n",
    "\n",
    "    column_name = column + \"_bins\"\n",
    "    bin_legends = [str(bins[i]) + \" - \" + str(bins[i + 1]) for i in range(len(bins) - 1)]\n",
    "\n",
    "    first_dataset[column_name] = pd.cut(first_dataset[column], bins, labels=bin_legends, include_lowest=True)\n",
    "    second_dataset[column_name] = pd.cut(second_dataset[column], bins, labels=bin_legends, include_lowest=True)\n",
    "\n",
    "    return first_dataset, second_dataset"
   ]
  },
  {
   "attachments": {},
   "cell_type": "markdown",
   "metadata": {},
   "source": [
    "# Read Data"
   ]
  },
  {
   "cell_type": "code",
   "execution_count": 3,
   "metadata": {},
   "outputs": [],
   "source": [
    "df_chromecast = pd.read_csv(\"../data/dataset_chromecast.csv\")\n",
    "df_smart_tv = pd.read_csv(\"../data/dataset_smart-tv.csv\")"
   ]
  },
  {
   "attachments": {},
   "cell_type": "markdown",
   "metadata": {},
   "source": [
    "# Data Preprocessing"
   ]
  },
  {
   "attachments": {},
   "cell_type": "markdown",
   "metadata": {},
   "source": [
    "## Log Transformation"
   ]
  },
  {
   "attachments": {},
   "cell_type": "markdown",
   "metadata": {},
   "source": [
    "### Chromecast"
   ]
  },
  {
   "cell_type": "code",
   "execution_count": 4,
   "metadata": {},
   "outputs": [],
   "source": [
    "df_chromecast[\"log_bytes_up\"] = np.log10(df_chromecast[\"bytes_up\"] + 1)\n",
    "df_chromecast[\"log_bytes_down\"] = np.log10(df_chromecast[\"bytes_down\"] + 1)"
   ]
  },
  {
   "attachments": {},
   "cell_type": "markdown",
   "metadata": {},
   "source": [
    "### Smart TV"
   ]
  },
  {
   "cell_type": "code",
   "execution_count": 5,
   "metadata": {},
   "outputs": [],
   "source": [
    "df_smart_tv[\"log_bytes_up\"] = np.log10(df_smart_tv[\"bytes_up\"] + 1)\n",
    "df_smart_tv[\"log_bytes_down\"] = np.log10(df_smart_tv[\"bytes_down\"] + 1)"
   ]
  },
  {
   "attachments": {},
   "cell_type": "markdown",
   "metadata": {},
   "source": [
    "## Create Hour Column"
   ]
  },
  {
   "attachments": {},
   "cell_type": "markdown",
   "metadata": {},
   "source": [
    "### Chromecast"
   ]
  },
  {
   "cell_type": "code",
   "execution_count": 6,
   "metadata": {},
   "outputs": [],
   "source": [
    "df_chromecast[\"hour\"] = df_chromecast[\"date_hour\"].apply(\n",
    "    lambda x: int(x.split(\" \")[1].split(\":\")[0])\n",
    ")"
   ]
  },
  {
   "attachments": {},
   "cell_type": "markdown",
   "metadata": {},
   "source": [
    "### Smart TV"
   ]
  },
  {
   "cell_type": "code",
   "execution_count": 7,
   "metadata": {},
   "outputs": [],
   "source": [
    "df_smart_tv[\"hour\"] = df_smart_tv[\"date_hour\"].apply(\n",
    "    lambda x: int(x.split(\" \")[1].split(\":\")[0])\n",
    ")"
   ]
  },
  {
   "attachments": {},
   "cell_type": "markdown",
   "metadata": {},
   "source": [
    "# Second Section"
   ]
  },
  {
   "attachments": {},
   "cell_type": "markdown",
   "metadata": {},
   "source": [
    "## Chromecast"
   ]
  },
  {
   "attachments": {},
   "cell_type": "markdown",
   "metadata": {},
   "source": [
    "### Histogram"
   ]
  },
  {
   "cell_type": "code",
   "execution_count": null,
   "metadata": {},
   "outputs": [],
   "source": [
    "fig = plt.figure()\n",
    "plt.hist(\n",
    "    df_chromecast[\"log_bytes_up\"],\n",
    "    bins=calculate_bin(df_chromecast[\"log_bytes_up\"]),\n",
    "    color=\"blue\",\n",
    "    alpha=0.5,\n",
    "    edgecolor=\"black\",\n",
    ")\n",
    "plt.xlabel(\"Log₁₀(Uploaded Bytes)\")\n",
    "plt.ylabel(\"Frequency\")\n",
    "plt.title(\"Chromecast Histogram of Log₁₀(Uploaded Bytes)\")\n",
    "fig.savefig(\n",
    "    \"../images/second_section/chromecast/histogram/chromecast_hist_log_bytes_up.png\", \n",
    "    dpi=fig.dpi\n",
    ")"
   ]
  },
  {
   "cell_type": "code",
   "execution_count": null,
   "metadata": {},
   "outputs": [],
   "source": [
    "fig = plt.figure()\n",
    "plt.hist(\n",
    "    df_chromecast[\"log_bytes_down\"],\n",
    "    bins=calculate_bin(df_chromecast[\"log_bytes_down\"]),\n",
    "    color=\"red\",\n",
    "    alpha=0.5,\n",
    "    edgecolor=\"black\",\n",
    ")\n",
    "plt.xlabel(\"Log₁₀(Downloaded Bytes)\")\n",
    "plt.ylabel(\"Frequency\")\n",
    "plt.title(\"Chromecast Histogram of Log₁₀(Downloaded Bytes)\")\n",
    "fig.savefig(\n",
    "    \"../images/second_section/chromecast/histogram/chromecast_hist_log_bytes_down.png\",\n",
    "    dpi=fig.dpi\n",
    ")"
   ]
  },
  {
   "attachments": {},
   "cell_type": "markdown",
   "metadata": {},
   "source": [
    "### Empirical Distribution Function"
   ]
  },
  {
   "cell_type": "code",
   "execution_count": null,
   "metadata": {},
   "outputs": [],
   "source": [
    "fig = plt.figure()\n",
    "plt.plot(\n",
    "    df_chromecast[\"log_bytes_up\"].sort_values(),\n",
    "    np.linspace(0, 1, len(df_chromecast[\"log_bytes_up\"])),\n",
    "    color=\"blue\",\n",
    "    marker=\".\",\n",
    ")\n",
    "plt.xlabel(\"Log₁₀(Uploaded Bytes)\")\n",
    "plt.ylabel(\"Fx(x)\")\n",
    "plt.title(\"Chromecast Empirical Distribution Function of Log₁₀(Uploaded Bytes)\")\n",
    "fig.savefig(\n",
    "    \"../images/second_section/chromecast/edf/chromecast_edf_log_bytes_up.png\", \n",
    "    dpi=fig.dpi\n",
    ")"
   ]
  },
  {
   "cell_type": "code",
   "execution_count": null,
   "metadata": {},
   "outputs": [],
   "source": [
    "fig = plt.figure()\n",
    "plt.plot(\n",
    "    df_chromecast[\"log_bytes_down\"].sort_values(),\n",
    "    np.linspace(0, 1, len(df_chromecast[\"log_bytes_down\"])),\n",
    "    color=\"red\",\n",
    "    marker=\".\",\n",
    ")\n",
    "plt.xlabel(\"Log₁₀(Downloaded Bytes)\")\n",
    "plt.ylabel(\"Fx(x)\")\n",
    "plt.title(\"Chromecast Empirical Distribution Function of Log₁₀(Downloaded Bytes)\")\n",
    "fig.savefig(\n",
    "    \"../images/second_section/chromecast/edf/chromecast_edf_log_bytes_down.png\", \n",
    "    dpi=fig.dpi\n",
    ")"
   ]
  },
  {
   "attachments": {},
   "cell_type": "markdown",
   "metadata": {},
   "source": [
    "### Boxplot"
   ]
  },
  {
   "cell_type": "code",
   "execution_count": null,
   "metadata": {},
   "outputs": [],
   "source": [
    "fig = plt.figure()\n",
    "plt.boxplot(\n",
    "    [df_chromecast[\"log_bytes_up\"], df_chromecast[\"log_bytes_down\"]],\n",
    "    labels=[\"Log₁₀(Uploaded Bytes)\", \"Log₁₀(Downloaded Bytes)\"],\n",
    "    patch_artist=True,\n",
    "    boxprops=dict(facecolor=\"cyan\", color=\"black\"),\n",
    "    medianprops=dict(color=\"black\"),\n",
    "    whiskerprops=dict(color=\"black\"),\n",
    "    capprops=dict(color=\"black\"),\n",
    ")\n",
    "plt.ylabel(\"Log₁₀(Bytes)\")\n",
    "plt.title(\"Chromecast Boxplots\")\n",
    "fig.savefig(\n",
    "    \"../images/second_section/chromecast/boxplot/chromecast_boxplot_log_bytes_up_down.png\",\n",
    "    dpi=fig.dpi,\n",
    ")"
   ]
  },
  {
   "attachments": {},
   "cell_type": "markdown",
   "metadata": {},
   "source": [
    "### Statistical Analysis"
   ]
  },
  {
   "cell_type": "code",
   "execution_count": 8,
   "metadata": {},
   "outputs": [
    {
     "name": "stdout",
     "output_type": "stream",
     "text": [
      "Summary Statistics of Log₁₀(Bytes) for Chromecast\n",
      "|                    |   Log₁₀(Uploaded Bytes) |   Log₁₀(Downloaded Bytes) |\n",
      "|:-------------------|------------------------:|--------------------------:|\n",
      "| Mean               |                3.3503   |                   3.80005 |\n",
      "| Variance           |                0.459969 |                   1.6639  |\n",
      "| Standard Deviation |                0.67821  |                   1.28992 |\n"
     ]
    }
   ],
   "source": [
    "chromecast_bytes_up_down = pd.DataFrame(\n",
    "    {\n",
    "        \"Log₁₀(Uploaded Bytes)\": [\n",
    "            df_chromecast[\"log_bytes_up\"].mean(),\n",
    "            df_chromecast[\"log_bytes_up\"].var(),\n",
    "            df_chromecast[\"log_bytes_up\"].std(),\n",
    "        ],\n",
    "        \"Log₁₀(Downloaded Bytes)\": [\n",
    "            df_chromecast[\"log_bytes_down\"].mean(),\n",
    "            df_chromecast[\"log_bytes_down\"].var(),\n",
    "            df_chromecast[\"log_bytes_down\"].std(),\n",
    "        ],\n",
    "    },\n",
    "    index=[\"Mean\", \"Variance\", \"Standard Deviation\"],\n",
    ")\n",
    "print(\"Summary Statistics of Log₁₀(Bytes) for Chromecast\")\n",
    "print(chromecast_bytes_up_down.to_markdown())"
   ]
  },
  {
   "attachments": {},
   "cell_type": "markdown",
   "metadata": {},
   "source": [
    "## Smart TV"
   ]
  },
  {
   "attachments": {},
   "cell_type": "markdown",
   "metadata": {},
   "source": [
    "### Histogram"
   ]
  },
  {
   "cell_type": "code",
   "execution_count": null,
   "metadata": {},
   "outputs": [],
   "source": [
    "fig = plt.figure()\n",
    "plt.hist(\n",
    "    df_smart_tv[\"log_bytes_up\"],\n",
    "    bins=calculate_bin(df_smart_tv[\"log_bytes_up\"]),\n",
    "    color=\"blue\",\n",
    "    alpha=0.5,\n",
    "    edgecolor=\"black\",\n",
    ")\n",
    "plt.xlabel(\"Log₁₀(Uploaded Bytes)\")\n",
    "plt.ylabel(\"Frequency\")\n",
    "plt.title(\"Smart TV Histogram of Log₁₀(Uploaded Bytes)\")\n",
    "fig.savefig(\n",
    "    \"../images/second_section/smart_tv//histogram/smart_tv_hist_log_bytes_up.png\", \n",
    "    dpi=fig.dpi\n",
    ")"
   ]
  },
  {
   "cell_type": "code",
   "execution_count": null,
   "metadata": {},
   "outputs": [],
   "source": [
    "fig = plt.figure()\n",
    "plt.hist(\n",
    "    df_smart_tv[\"log_bytes_down\"],\n",
    "    bins=calculate_bin(df_smart_tv[\"log_bytes_down\"]),\n",
    "    color=\"red\",\n",
    "    alpha=0.5,\n",
    "    edgecolor=\"black\",\n",
    ")\n",
    "plt.xlabel(\"Log₁₀(Downloaded Bytes)\")\n",
    "plt.ylabel(\"Frequency\")\n",
    "plt.title(\"Smart TV histogram of Log₁₀(Downloaded Bytes)\")\n",
    "fig.savefig(\n",
    "    \"../images/second_section/smart_tv/histogram/smart_tv_hist_log_bytes_down.png\", \n",
    "    dpi=fig.dpi\n",
    ")"
   ]
  },
  {
   "attachments": {},
   "cell_type": "markdown",
   "metadata": {},
   "source": [
    "### Empirical Distribution Function"
   ]
  },
  {
   "cell_type": "code",
   "execution_count": null,
   "metadata": {},
   "outputs": [],
   "source": [
    "fig = plt.figure()\n",
    "plt.plot(\n",
    "    df_smart_tv[\"log_bytes_up\"].sort_values(),\n",
    "    np.linspace(0, 1, len(df_smart_tv[\"log_bytes_up\"])),\n",
    "    color=\"blue\",\n",
    "    marker=\".\",\n",
    ")\n",
    "plt.xlabel(\"Log₁₀(Uploaded Bytes)\")\n",
    "plt.ylabel(\"Fx(x)\")\n",
    "plt.title(\"Smart TV Empirical Distribution Function of Log₁₀(Uploaded Bytes)\")\n",
    "fig.savefig(\n",
    "    \"../images/second_section/smart_tv/edf/smart_tv_edf_log_bytes_up.png\", \n",
    "    dpi=fig.dpi\n",
    ")"
   ]
  },
  {
   "cell_type": "code",
   "execution_count": null,
   "metadata": {},
   "outputs": [],
   "source": [
    "fig = plt.figure()\n",
    "plt.plot(\n",
    "    df_smart_tv[\"log_bytes_down\"].sort_values(),\n",
    "    np.linspace(0, 1, len(df_smart_tv[\"log_bytes_down\"])),\n",
    "    color=\"red\",\n",
    "    marker=\".\",\n",
    ")\n",
    "plt.xlabel(\"Log₁₀(Downloaded Bytes)\")\n",
    "plt.ylabel(\"Fx(x)\")\n",
    "plt.title(\"Smart TV Empirical Distribution Function of Log₁₀(Downloaded Bytes)\")\n",
    "fig.savefig(\n",
    "    \"../images/second_section/smart_tv/edf/smart_tv_edf_bytes_down.png\", \n",
    "    dpi=fig.dpi\n",
    ")"
   ]
  },
  {
   "attachments": {},
   "cell_type": "markdown",
   "metadata": {},
   "source": [
    "### Boxplot"
   ]
  },
  {
   "cell_type": "code",
   "execution_count": null,
   "metadata": {},
   "outputs": [],
   "source": [
    "fig = plt.figure()\n",
    "plt.boxplot(\n",
    "    [df_smart_tv[\"log_bytes_up\"], df_smart_tv[\"log_bytes_down\"]],\n",
    "    labels=[\"Log₁₀(Uploaded Bytes)\", \"Log₁₀(Downloaded Bytes)\"],\n",
    "    patch_artist=True,\n",
    "    boxprops=dict(facecolor=\"cyan\", color=\"black\"),\n",
    "    medianprops=dict(color=\"black\"),\n",
    "    whiskerprops=dict(color=\"black\"),\n",
    "    capprops=dict(color=\"black\"),\n",
    ")\n",
    "plt.ylabel(\"Log₁₀(Bytes)\")\n",
    "plt.title(\"Smart TV Boxplots\")\n",
    "fig.savefig(\n",
    "    \"../images/second_section/smart_tv/boxplot/smart_tv_boxplot_log_bytes_up_down.png\", \n",
    "    dpi=fig.dpi\n",
    ")"
   ]
  },
  {
   "attachments": {},
   "cell_type": "markdown",
   "metadata": {},
   "source": [
    "### Statistical Analysis"
   ]
  },
  {
   "cell_type": "code",
   "execution_count": 9,
   "metadata": {},
   "outputs": [
    {
     "name": "stdout",
     "output_type": "stream",
     "text": [
      "Summary Statistics of Log₁₀(Bytes) for Smart TV\n",
      "|                    |   Log₁₀(Uploaded Bytes) |   Log₁₀(Downloaded Bytes) |\n",
      "|:-------------------|------------------------:|--------------------------:|\n",
      "| Mean               |                 2.15829 |                   2.35168 |\n",
      "| Variance           |                 4.11014 |                   6.72132 |\n",
      "| Standard Deviation |                 2.02735 |                   2.59255 |\n"
     ]
    }
   ],
   "source": [
    "smart_tv_bytes_up_down = pd.DataFrame(\n",
    "    {\n",
    "        \"Log₁₀(Uploaded Bytes)\": [\n",
    "            df_smart_tv[\"log_bytes_up\"].mean(),\n",
    "            df_smart_tv[\"log_bytes_up\"].var(),\n",
    "            df_smart_tv[\"log_bytes_up\"].std(),\n",
    "        ],\n",
    "        \"Log₁₀(Downloaded Bytes)\": [\n",
    "            df_smart_tv[\"log_bytes_down\"].mean(),\n",
    "            df_smart_tv[\"log_bytes_down\"].var(),\n",
    "            df_smart_tv[\"log_bytes_down\"].std(),\n",
    "        ],\n",
    "    },\n",
    "    index=[\"Mean\", \"Variance\", \"Standard Deviation\"],\n",
    ")\n",
    "print(\"Summary Statistics of Log₁₀(Bytes) for Smart TV\")\n",
    "print(smart_tv_bytes_up_down.to_markdown())"
   ]
  },
  {
   "attachments": {},
   "cell_type": "markdown",
   "metadata": {},
   "source": [
    "# Third Section"
   ]
  },
  {
   "attachments": {},
   "cell_type": "markdown",
   "metadata": {},
   "source": [
    "## Chromecast"
   ]
  },
  {
   "attachments": {},
   "cell_type": "markdown",
   "metadata": {},
   "source": [
    "### Boxplot"
   ]
  },
  {
   "cell_type": "code",
   "execution_count": null,
   "metadata": {},
   "outputs": [],
   "source": [
    "for hour in range(0, 24):\n",
    "    fig = plt.figure()\n",
    "    plt.boxplot(\n",
    "        [\n",
    "            df_chromecast[df_chromecast[\"hour\"] == hour][\"log_bytes_up\"],\n",
    "            df_chromecast[df_chromecast[\"hour\"] == hour][\"log_bytes_down\"],\n",
    "        ],\n",
    "        labels=[\"Log₁₀(Uploaded Bytes)\", \"Log₁₀(Downloaded Bytes)\"],\n",
    "        patch_artist=True,\n",
    "        boxprops=dict(facecolor=\"cyan\", color=\"black\"),\n",
    "        medianprops=dict(color=\"black\"),\n",
    "        whiskerprops=dict(color=\"black\"),\n",
    "        capprops=dict(color=\"black\"),\n",
    "    )\n",
    "    plt.ylabel(\"Log₁₀(Bytes)\")\n",
    "    plt.title(f\"Chromecast Boxplots for {hour:02d}:00\")\n",
    "    fig.savefig(\n",
    "        f\"../images/third_section/chromecast/boxplot/chromecast_boxplot_log_bytes_up_down_hour_{hour}.png\",\n",
    "        dpi=fig.dpi,\n",
    "    )"
   ]
  },
  {
   "attachments": {},
   "cell_type": "markdown",
   "metadata": {},
   "source": [
    "### Statistical Analysis"
   ]
  },
  {
   "cell_type": "code",
   "execution_count": null,
   "metadata": {},
   "outputs": [],
   "source": [
    "fig = plt.figure()\n",
    "plt.plot(\n",
    "    df_chromecast.groupby(\"hour\")[\"log_bytes_up\"].mean(),\n",
    "    color=\"red\",\n",
    "    marker=\".\",\n",
    "    label=\"Mean\",\n",
    ")\n",
    "plt.plot(\n",
    "    df_chromecast.groupby(\"hour\")[\"log_bytes_up\"].var(),\n",
    "    color=\"green\",\n",
    "    marker=\".\",\n",
    "    label=\"Variance\",\n",
    ")\n",
    "plt.plot(\n",
    "    df_chromecast.groupby(\"hour\")[\"log_bytes_up\"].std(),\n",
    "    color=\"blue\",\n",
    "    marker=\".\",\n",
    "    label=\"Standard Deviation\",\n",
    ")\n",
    "plt.xlabel(\"Hour\")\n",
    "plt.ylabel(\"Log₁₀(Bytes)\")\n",
    "plt.legend(loc=\"best\")\n",
    "plt.title(\"Chromecast Log₁₀(Uploaded Bytes) Statistics by Hour\")\n",
    "fig.savefig(\n",
    "    \"../images/third_section/chromecast/statistical_analysis/chromecast_line_bytes_up_mean_var_std_hour.png\",\n",
    "    dpi=fig.dpi,\n",
    ")"
   ]
  },
  {
   "cell_type": "code",
   "execution_count": null,
   "metadata": {},
   "outputs": [],
   "source": [
    "fig = plt.figure()\n",
    "plt.plot(\n",
    "    df_chromecast.groupby(\"hour\")[\"log_bytes_down\"].mean(),\n",
    "    color=\"red\",\n",
    "    marker=\".\",\n",
    "    label=\"Mean\",\n",
    ")\n",
    "plt.plot(\n",
    "    df_chromecast.groupby(\"hour\")[\"log_bytes_down\"].var(),\n",
    "    color=\"green\",\n",
    "    marker=\".\",\n",
    "    label=\"Variance\",\n",
    ")\n",
    "plt.plot(\n",
    "    df_chromecast.groupby(\"hour\")[\"log_bytes_down\"].std(),\n",
    "    color=\"blue\",\n",
    "    marker=\".\",\n",
    "    label=\"Standard Deviation\",\n",
    ")\n",
    "plt.xlabel(\"Hour\")\n",
    "plt.ylabel(\"Log₁₀(Bytes)\")\n",
    "plt.legend(loc=\"best\")\n",
    "plt.title(\"Chromecast Log₁₀(Downloaded Bytes) Statistics by Hour\")\n",
    "fig.savefig(\n",
    "    \"../images/third_section/chromecast/statistical_analysis/chromecast_line_bytes_down_mean_var_std_hour.png\",\n",
    "    dpi=fig.dpi,\n",
    ")"
   ]
  },
  {
   "attachments": {},
   "cell_type": "markdown",
   "metadata": {},
   "source": [
    "## Smart TV"
   ]
  },
  {
   "attachments": {},
   "cell_type": "markdown",
   "metadata": {},
   "source": [
    "### Boxplot"
   ]
  },
  {
   "cell_type": "code",
   "execution_count": null,
   "metadata": {},
   "outputs": [],
   "source": [
    "for hour in range(0, 24):\n",
    "    fig = plt.figure()\n",
    "    plt.boxplot(\n",
    "        [\n",
    "            df_smart_tv[df_smart_tv[\"hour\"] == hour][\"log_bytes_up\"],\n",
    "            df_smart_tv[df_smart_tv[\"hour\"] == hour][\"log_bytes_down\"],\n",
    "        ],\n",
    "        labels=[\"Log₁₀(Uploaded Bytes)\", \"Log₁₀(Downloaded Bytes)\"],\n",
    "        patch_artist=True,\n",
    "        boxprops=dict(facecolor=\"cyan\", color=\"black\"),\n",
    "        medianprops=dict(color=\"black\"),\n",
    "        whiskerprops=dict(color=\"black\"),\n",
    "        capprops=dict(color=\"black\"),\n",
    "    )\n",
    "    plt.ylabel(\"Log₁₀(Bytes)\")\n",
    "    plt.title(f\"Smart TV Boxplots for {hour:02d}:00\")\n",
    "    fig.savefig(\n",
    "        f\"../images/third_section/smart_tv/boxplot/smart_tv_boxplot_bytes_up_down_hour_{hour}.png\",\n",
    "        dpi=fig.dpi,\n",
    "    )"
   ]
  },
  {
   "attachments": {},
   "cell_type": "markdown",
   "metadata": {},
   "source": [
    "### Statistical Analysis"
   ]
  },
  {
   "cell_type": "code",
   "execution_count": null,
   "metadata": {},
   "outputs": [],
   "source": [
    "fig = plt.figure()\n",
    "plt.plot(\n",
    "    df_smart_tv.groupby(\"hour\")[\"log_bytes_up\"].mean(),\n",
    "    color=\"red\",\n",
    "    marker=\".\",\n",
    "    label=\"Mean\",\n",
    ")\n",
    "plt.plot(\n",
    "    df_smart_tv.groupby(\"hour\")[\"log_bytes_up\"].var(),\n",
    "    color=\"green\",\n",
    "    marker=\".\",\n",
    "    label=\"Variance\",\n",
    ")\n",
    "plt.plot(\n",
    "    df_smart_tv.groupby(\"hour\")[\"log_bytes_up\"].std(),\n",
    "    color=\"blue\",\n",
    "    marker=\".\",\n",
    "    label=\"Standard Deviation\",\n",
    ")\n",
    "plt.xlabel(\"Hour\")\n",
    "plt.ylabel(\"Log₁₀(Bytes)\")\n",
    "plt.legend(loc=\"best\")\n",
    "plt.title(\"Smart TV Log₁₀(Uploaded Bytes) Statistics by Hour\")\n",
    "fig.savefig(\n",
    "    \"../images/third_section/smart_tv/statistical_analysis/smart_tv_line_bytes_up_mean_var_std_hour.png\",\n",
    "    dpi=fig.dpi,\n",
    ")"
   ]
  },
  {
   "cell_type": "code",
   "execution_count": null,
   "metadata": {},
   "outputs": [],
   "source": [
    "fig = plt.figure()\n",
    "plt.plot(\n",
    "    df_smart_tv.groupby(\"hour\")[\"log_bytes_down\"].mean(),\n",
    "    color=\"red\",\n",
    "    marker=\".\",\n",
    "    label=\"Mean\",\n",
    ")\n",
    "plt.plot(\n",
    "    df_smart_tv.groupby(\"hour\")[\"log_bytes_down\"].var(),\n",
    "    color=\"green\",\n",
    "    marker=\".\",\n",
    "    label=\"Variance\",\n",
    ")\n",
    "plt.plot(\n",
    "    df_smart_tv.groupby(\"hour\")[\"log_bytes_down\"].std(),\n",
    "    color=\"blue\",\n",
    "    marker=\".\",\n",
    "    label=\"Standard Deviation\",\n",
    ")\n",
    "plt.xlabel(\"Hour\")\n",
    "plt.ylabel(\"Log₁₀(Bytes)\")\n",
    "plt.legend(loc=\"best\")\n",
    "plt.title(\"Smart TV Log₁₀(Downloaded Bytes) Statistics by Hour\")\n",
    "fig.savefig(\n",
    "    \"../images/third_section/smart_tv/statistical_analysis/smart_tv_line_bytes_down_mean_var_std_hour.png\",\n",
    "    dpi=fig.dpi,\n",
    ")"
   ]
  },
  {
   "attachments": {},
   "cell_type": "markdown",
   "metadata": {},
   "source": [
    "# Fourth Section"
   ]
  },
  {
   "attachments": {},
   "cell_type": "markdown",
   "metadata": {},
   "source": [
    "## Chromecast"
   ]
  },
  {
   "attachments": {},
   "cell_type": "markdown",
   "metadata": {},
   "source": [
    "### Filter Dataset"
   ]
  },
  {
   "cell_type": "code",
   "execution_count": 10,
   "metadata": {},
   "outputs": [],
   "source": [
    "hour_of_max_median_up_chromecast = (\n",
    "    df_chromecast.groupby(\"hour\")[\"log_bytes_up\"].median().idxmax()\n",
    ")\n",
    "hour_of_max_mean_up_chromecast = (\n",
    "    df_chromecast.groupby(\"hour\")[\"log_bytes_up\"].mean().idxmax()\n",
    ")\n",
    "hour_of_max_median_down_chromecast = (\n",
    "    df_chromecast.groupby(\"hour\")[\"log_bytes_down\"].median().idxmax()\n",
    ")\n",
    "hour_of_max_mean_down_chromecast = (\n",
    "    df_chromecast.groupby(\"hour\")[\"log_bytes_down\"].mean().idxmax()\n",
    ")"
   ]
  },
  {
   "cell_type": "code",
   "execution_count": 11,
   "metadata": {},
   "outputs": [
    {
     "name": "stdout",
     "output_type": "stream",
     "text": [
      "Hour of Max Median and Mean for Chromecast\n",
      "|                         |   Hour of Max Median |   Hour of Max Mean |\n",
      "|:------------------------|---------------------:|-------------------:|\n",
      "| Log₁₀(Uploaded Bytes)   |                   22 |                 22 |\n",
      "| Log₁₀(Downloaded Bytes) |                   23 |                 23 |\n"
     ]
    }
   ],
   "source": [
    "df_chromecast_hourly_max = pd.DataFrame(\n",
    "    {\n",
    "        \"Hour of Max Median\": [\n",
    "            hour_of_max_median_up_chromecast,\n",
    "            hour_of_max_median_down_chromecast,\n",
    "        ],\n",
    "        \"Hour of Max Mean\": [hour_of_max_mean_up_chromecast, hour_of_max_mean_down_chromecast],\n",
    "    },\n",
    "    index=[\"Log₁₀(Uploaded Bytes)\", \"Log₁₀(Downloaded Bytes)\"],\n",
    ")\n",
    "print(\"Hour of Max Median and Mean for Chromecast\")\n",
    "print(df_chromecast_hourly_max.to_markdown())"
   ]
  },
  {
   "cell_type": "code",
   "execution_count": 12,
   "metadata": {},
   "outputs": [],
   "source": [
    "df_chromecast_max_median_up = df_chromecast[\n",
    "    (df_chromecast[\"hour\"] == hour_of_max_median_up_chromecast)\n",
    "][[\"hour\", \"bytes_up\", \"log_bytes_up\", \"device_id\"]]\n",
    "\n",
    "df_chromecast_max_mean_up = df_chromecast[\n",
    "    (df_chromecast[\"hour\"] == hour_of_max_mean_up_chromecast)\n",
    "][[\"hour\", \"bytes_up\", \"log_bytes_up\", \"device_id\"]]\n",
    "\n",
    "df_chromecast_max_median_down = df_chromecast[\n",
    "    (df_chromecast[\"hour\"] == hour_of_max_median_down_chromecast)\n",
    "][[\"hour\", \"bytes_down\", \"log_bytes_down\", \"device_id\"]]\n",
    "\n",
    "df_chromecast_max_mean_down = df_chromecast[\n",
    "    (df_chromecast[\"hour\"] == hour_of_max_mean_down_chromecast)\n",
    "][[\"hour\", \"bytes_down\", \"log_bytes_down\", \"device_id\"]]\n",
    "\n",
    "df_chromecast_max_mean_up_same_download_hour = df_chromecast[\n",
    "    (df_chromecast[\"hour\"] == hour_of_max_mean_down_chromecast)\n",
    "][[\"hour\", \"bytes_up\", \"log_bytes_up\", \"device_id\"]]\n",
    "\n",
    "df_chromecast_max_median_up_same_download_hour = df_chromecast[\n",
    "    (df_chromecast[\"hour\"] == hour_of_max_median_down_chromecast)\n",
    "][[\"hour\", \"bytes_up\", \"log_bytes_up\", \"device_id\"]]"
   ]
  },
  {
   "attachments": {},
   "cell_type": "markdown",
   "metadata": {},
   "source": [
    "### Histogram"
   ]
  },
  {
   "cell_type": "code",
   "execution_count": null,
   "metadata": {},
   "outputs": [],
   "source": [
    "for df, column, name, figure_name in [\n",
    "    (df_chromecast_max_median_up, \"log_bytes_up\", \"ChromeCast Max Median Log₁₀(Uploaded Bytes)\", \"chromecast_max_median_up\"),\n",
    "    (df_chromecast_max_median_down, \"log_bytes_down\", \"ChromeCast Max Median Log₁₀(Downloaded Bytes)\", \"chromecast_max_median_down\"),\n",
    "    (df_chromecast_max_mean_up, \"log_bytes_up\", \"ChromeCast Max Mean Log₁₀(Uploaded Bytes)\", \"chromecast_max_mean_up\"),\n",
    "    (df_chromecast_max_mean_down, \"log_bytes_down\", \"ChromeCast Max Mean Log₁₀(Downloaded Bytes)\", \"chromecast_max_mean_down\"),\n",
    "]:\n",
    "    chromecast_hist_bin = calculate_bin(df[column])\n",
    "    fig = plt.figure()\n",
    "    plt.hist(\n",
    "        df[column],\n",
    "        bins=chromecast_hist_bin,\n",
    "        color=(\"blue\" if column == \"log_bytes_up\" else \"red\"),\n",
    "        alpha=0.5,\n",
    "        edgecolor=\"black\",\n",
    "    )\n",
    "    plt.xlabel(\"Log₁₀(Uploaded Bytes)\" if column == \"log_bytes_up\" else \"Log₁₀(Downloaded Bytes)\")\n",
    "    plt.ylabel(\"Frequency\")\n",
    "    plt.title(f\"Histogram for {name} (Hour {df['hour'].iloc[0]})\")\n",
    "    fig.savefig(\n",
    "        f\"../images/fourth_section/chromecast/histogram/chromecast_histogram_{figure_name}.png\",\n",
    "        dpi=fig.dpi,\n",
    "    )"
   ]
  },
  {
   "attachments": {},
   "cell_type": "markdown",
   "metadata": {},
   "source": [
    "### MLE"
   ]
  },
  {
   "attachments": {},
   "cell_type": "markdown",
   "metadata": {},
   "source": [
    "#### Gamma"
   ]
  },
  {
   "cell_type": "code",
   "execution_count": 13,
   "metadata": {},
   "outputs": [
    {
     "name": "stdout",
     "output_type": "stream",
     "text": [
      "Gamma Distribution for ChromeCast Max Median Log₁₀(Uploaded Bytes) (Hour 22)\n",
      "|    |   shape |     loc |     scale |\n",
      "|---:|--------:|--------:|----------:|\n",
      "|  0 | 3148.88 | -39.809 | 0.0137606 |\n",
      "\n",
      "Gamma Distribution for ChromeCast Max Median Log₁₀(Downloaded Bytes) (Hour 23)\n",
      "|    |   shape |      loc |   scale |\n",
      "|---:|--------:|---------:|--------:|\n",
      "|  0 | 27.1301 | -3.63137 | 0.28323 |\n",
      "\n",
      "Gamma Distribution for ChromeCast Max Mean Log₁₀(Uploaded Bytes) (Hour 22)\n",
      "|    |   shape |     loc |     scale |\n",
      "|---:|--------:|--------:|----------:|\n",
      "|  0 | 3148.88 | -39.809 | 0.0137606 |\n",
      "\n",
      "Gamma Distribution for ChromeCast Max Mean Log₁₀(Downloaded Bytes) (Hour 23)\n",
      "|    |   shape |      loc |   scale |\n",
      "|---:|--------:|---------:|--------:|\n",
      "|  0 | 27.1301 | -3.63137 | 0.28323 |\n",
      "\n"
     ]
    }
   ],
   "source": [
    "for df, column, name in [\n",
    "    (df_chromecast_max_median_up, \"log_bytes_up\", \"ChromeCast Max Median Log₁₀(Uploaded Bytes)\"),\n",
    "    (df_chromecast_max_median_down, \"log_bytes_down\", \"ChromeCast Max Median Log₁₀(Downloaded Bytes)\"),\n",
    "    (df_chromecast_max_mean_up, \"log_bytes_up\", \"ChromeCast Max Mean Log₁₀(Uploaded Bytes)\"),\n",
    "    (df_chromecast_max_mean_down, \"log_bytes_down\", \"ChromeCast Max Mean Log₁₀(Downloaded Bytes)\"),\n",
    "]:\n",
    "    shape, loc, scale = gamma.fit(df[column])\n",
    "    df_gamma = pd.DataFrame(\n",
    "        {\n",
    "            \"shape\": [shape], \n",
    "            \"loc\": [loc], \n",
    "            \"scale\": [scale]\n",
    "        }\n",
    "    )\n",
    "    print(f\"Gamma Distribution for {name} (Hour {df['hour'].iloc[0]})\")\n",
    "    print(df_gamma.to_markdown())\n",
    "    print()"
   ]
  },
  {
   "attachments": {},
   "cell_type": "markdown",
   "metadata": {},
   "source": [
    "#### Gaussian"
   ]
  },
  {
   "cell_type": "code",
   "execution_count": 14,
   "metadata": {},
   "outputs": [
    {
     "name": "stdout",
     "output_type": "stream",
     "text": [
      "Gaussian Distribution for ChromeCast Max Median Log₁₀(Uploaded Bytes) (Hour 22)\n",
      "|    |    mean |   median |\n",
      "|---:|--------:|---------:|\n",
      "|  0 | 3.52155 |   3.4438 |\n",
      "\n",
      "Gaussian Distribution for ChromeCast Max Median Log₁₀(Downloaded Bytes) (Hour 23)\n",
      "|    |   mean |   median |\n",
      "|---:|-------:|---------:|\n",
      "|  0 | 4.0527 |  4.28566 |\n",
      "\n",
      "Gaussian Distribution for ChromeCast Max Mean Log₁₀(Uploaded Bytes) (Hour 22)\n",
      "|    |    mean |   median |\n",
      "|---:|--------:|---------:|\n",
      "|  0 | 3.52155 |   3.4438 |\n",
      "\n",
      "Gaussian Distribution for ChromeCast Max Mean Log₁₀(Downloaded Bytes) (Hour 23)\n",
      "|    |   mean |   median |\n",
      "|---:|-------:|---------:|\n",
      "|  0 | 4.0527 |  4.28566 |\n",
      "\n"
     ]
    }
   ],
   "source": [
    "for df, column, name in [\n",
    "    (df_chromecast_max_median_up, \"log_bytes_up\", \"ChromeCast Max Median Log₁₀(Uploaded Bytes)\"),\n",
    "    (df_chromecast_max_median_down, \"log_bytes_down\", \"ChromeCast Max Median Log₁₀(Downloaded Bytes)\"),\n",
    "    (df_chromecast_max_mean_up, \"log_bytes_up\", \"ChromeCast Max Mean Log₁₀(Uploaded Bytes)\"),\n",
    "    (df_chromecast_max_mean_down, \"log_bytes_down\", \"ChromeCast Max Mean Log₁₀(Downloaded Bytes)\"),\n",
    "]:\n",
    "    df_mean_median = pd.DataFrame(\n",
    "        {\n",
    "            \"mean\": [df[column].mean()], \n",
    "            \"median\": [df[column].median()]\n",
    "        }\n",
    "    )\n",
    "    print(f\"Gaussian Distribution for {name} (Hour {df['hour'].iloc[0]})\")\n",
    "    print(df_mean_median.to_markdown())\n",
    "    print()"
   ]
  },
  {
   "attachments": {},
   "cell_type": "markdown",
   "metadata": {},
   "source": [
    "### Histogram with MLE"
   ]
  },
  {
   "cell_type": "code",
   "execution_count": null,
   "metadata": {},
   "outputs": [],
   "source": [
    "for df, column, title, column_name in [\n",
    "    (df_chromecast_max_median_up, \"log_bytes_up\", \"ChromeCast Max Median Log₁₀(Uploaded Bytes)\", \"log_bytes_up_max_median\"),\n",
    "    (df_chromecast_max_median_down, \"log_bytes_down\", \"ChromeCast Max Median Log₁₀(Downloaded Bytes)\", \"log_bytes_down_max_median\"),\n",
    "    (df_chromecast_max_mean_up, \"log_bytes_up\", \"ChromeCast Max Mean Log₁₀(Uploaded Bytes)\", \"log_bytes_up_max_mean\"),\n",
    "    (df_chromecast_max_mean_down, \"log_bytes_down\", \"ChromeCast Max Mean Log₁₀(Downloaded Bytes)\", \"log_bytes_down_max_mean\"),\n",
    "]:\n",
    "    fig = plt.figure()\n",
    "    chromecast_hist_bin = calculate_bin(df[column])\n",
    "    plt.hist(\n",
    "        df[column],\n",
    "        bins=chromecast_hist_bin,\n",
    "        color=(\"blue\" if column == \"log_bytes_up\" else \"red\"),\n",
    "        alpha=0.5,\n",
    "        edgecolor=\"black\",\n",
    "        label=\"Histogram\",\n",
    "        density=True,\n",
    "    )\n",
    "\n",
    "    x = np.linspace(df[column].min(), df[column].max(), len(df[column]))\n",
    "\n",
    "    shape, loc, scale = gamma.fit(df[column])\n",
    "    gamma_distribution = gamma.pdf(x, shape, loc, scale)\n",
    "\n",
    "    mean, std = norm.fit(df[column])\n",
    "    gaussian_distribution = norm.pdf(x, mean, std)\n",
    "\n",
    "    plt.plot(x, gamma_distribution, label=\"Gamma\", color=\"green\")\n",
    "    plt.plot(x, gaussian_distribution, label=\"Gaussian\", color=\"orange\")\n",
    "    plt.xlabel(\"Log₁₀(Uploaded Bytes)\" if column == \"log_bytes_up\" else \"Log₁₀(Downloaded Bytes)\")\n",
    "    plt.ylabel(\"Frequency\")\n",
    "    plt.title(f\"Histogram for {title} (Hour {df['hour'].iloc[0]})\")\n",
    "    plt.legend(loc=\"best\")\n",
    "    fig.savefig(\n",
    "        f\"../images/fourth_section/chromecast/histogram_mle/chromecast_histogram_mle_{column_name}.png\",\n",
    "        dpi=fig.dpi,\n",
    "    )"
   ]
  },
  {
   "attachments": {},
   "cell_type": "markdown",
   "metadata": {},
   "source": [
    "### Probability Plot"
   ]
  },
  {
   "cell_type": "code",
   "execution_count": null,
   "metadata": {},
   "outputs": [],
   "source": [
    "for df, column, name, figure_name in [\n",
    "    (df_chromecast_max_median_up, \"log_bytes_up\", \"Chromecast Max Median Log₁₀(Uploaded Bytes)\", \"chromecast_max_median_up\"),\n",
    "    (df_chromecast_max_median_down, \"log_bytes_down\", \"Chromecast Max Median Log₁₀(Downloaded Bytes)\", \"chromecast_max_median_down\"),\n",
    "    (df_chromecast_max_mean_up, \"log_bytes_up\", \"Chromecast Max Mean Log₁₀(Uploaded Bytes)\", \"chromecast_max_mean_up\"),\n",
    "    (df_chromecast_max_mean_down, \"log_bytes_down\", \"Chromecast Max Mean Log₁₀(Downloaded Bytes)\", \"chromecast_max_mean_down\"),\n",
    "]:\n",
    "\n",
    "    fig, axes = plt.subplots(1, 2, figsize=(18, 5))\n",
    "\n",
    "    fig.suptitle(f\"Probability Plot for {name} (Hour {df['hour'].iloc[0]})\")\n",
    "\n",
    "    x = df[column]\n",
    "    probplot(x, dist=gamma, sparams=(shape, loc, scale), plot=axes[0])\n",
    "    probplot(x, dist=norm, sparams=(df[column].mean(), df[column].std()), plot=axes[1])\n",
    "\n",
    "    axes[0].set_title(f\"Gamma Distribution\")\n",
    "    axes[1].set_title(f\"Gaussian Distribution\")\n",
    "\n",
    "    axes[0].set(xlabel=\"Theoretical Quantiles\", ylabel=\"Ordered Values\")\n",
    "    axes[1].set(xlabel=\"Theoretical Quantiles\", ylabel=\"Ordered Values\")\n",
    "\n",
    "    fig.savefig(\n",
    "        f\"../images/fourth_section/chromecast/probability_plot/probability_plot_{figure_name}.png\",\n",
    "        dpi=fig.dpi,\n",
    "    )\n",
    "    plt.show()"
   ]
  },
  {
   "attachments": {},
   "cell_type": "markdown",
   "metadata": {},
   "source": [
    "## Smart TV"
   ]
  },
  {
   "attachments": {},
   "cell_type": "markdown",
   "metadata": {},
   "source": [
    "### Filter Dataset"
   ]
  },
  {
   "cell_type": "code",
   "execution_count": 15,
   "metadata": {},
   "outputs": [],
   "source": [
    "hour_of_max_median_up_smart_tv = (\n",
    "    df_smart_tv.groupby(\"hour\")[\"log_bytes_up\"].median().idxmax()\n",
    ")\n",
    "hour_of_max_mean_up_smart_tv = (\n",
    "    df_smart_tv.groupby(\"hour\")[\"log_bytes_up\"].mean().idxmax()\n",
    ")\n",
    "hour_of_max_median_down_smart_tv = (\n",
    "    df_smart_tv.groupby(\"hour\")[\"log_bytes_down\"].median().idxmax()\n",
    ")\n",
    "hour_of_max_mean_down_smart_tv = (\n",
    "    df_smart_tv.groupby(\"hour\")[\"log_bytes_down\"].mean().idxmax()\n",
    ")"
   ]
  },
  {
   "cell_type": "code",
   "execution_count": 16,
   "metadata": {},
   "outputs": [
    {
     "name": "stdout",
     "output_type": "stream",
     "text": [
      "Hour of Max Median and Mean for Smart TV\n",
      "|                         |   Hour of Max Median |   Hour of Max Mean |\n",
      "|:------------------------|---------------------:|-------------------:|\n",
      "| Log₁₀(Uploaded Bytes)   |                   20 |                 20 |\n",
      "| Log₁₀(Downloaded Bytes) |                   20 |                 20 |\n"
     ]
    }
   ],
   "source": [
    "df_smart_tv_hourly_max = pd.DataFrame(\n",
    "    {\n",
    "        \"Hour of Max Median\": [\n",
    "            hour_of_max_median_up_smart_tv,\n",
    "            hour_of_max_median_down_smart_tv,\n",
    "        ],\n",
    "        \"Hour of Max Mean\": [hour_of_max_mean_up_smart_tv, hour_of_max_mean_down_smart_tv],\n",
    "    },\n",
    "    index=[\"Log₁₀(Uploaded Bytes)\", \"Log₁₀(Downloaded Bytes)\"],\n",
    ")\n",
    "print(\"Hour of Max Median and Mean for Smart TV\")\n",
    "print(df_smart_tv_hourly_max.to_markdown())"
   ]
  },
  {
   "cell_type": "code",
   "execution_count": 17,
   "metadata": {},
   "outputs": [],
   "source": [
    "df_smart_tv_max_median_up = df_smart_tv[\n",
    "    df_smart_tv[\"hour\"] == hour_of_max_median_up_smart_tv\n",
    "][[\"device_id\", \"hour\", \"bytes_up\", \"log_bytes_up\"]]\n",
    "\n",
    "df_smart_tv_max_median_down = df_smart_tv[\n",
    "    df_smart_tv[\"hour\"] == hour_of_max_median_down_smart_tv\n",
    "][[\"device_id\", \"hour\", \"bytes_down\", \"log_bytes_down\"]]\n",
    "\n",
    "df_smart_tv_max_mean_up = df_smart_tv[\n",
    "    df_smart_tv[\"hour\"] == hour_of_max_mean_up_smart_tv\n",
    "][[\"device_id\", \"hour\", \"bytes_up\", \"log_bytes_up\"]]\n",
    "\n",
    "df_smart_tv_max_mean_down = df_smart_tv[\n",
    "    df_smart_tv[\"hour\"] == hour_of_max_mean_down_smart_tv\n",
    "][[\"device_id\", \"hour\", \"bytes_down\", \"log_bytes_down\"]]"
   ]
  },
  {
   "attachments": {},
   "cell_type": "markdown",
   "metadata": {},
   "source": [
    "### Histogram"
   ]
  },
  {
   "cell_type": "code",
   "execution_count": null,
   "metadata": {},
   "outputs": [],
   "source": [
    "for df, column, name, figure_name in [\n",
    "    (df_smart_tv_max_median_up, \"log_bytes_up\", \"Smart TV Max Median Log₁₀(Uploaded Bytes)\", \"smart_tv_max_median_up\"),\n",
    "    (df_smart_tv_max_median_down, \"log_bytes_down\", \"Smart TV  Max Median Log₁₀(Downloaded Bytes)\", \"smart_tv_max_median_down\"),\n",
    "    (df_smart_tv_max_mean_up, \"log_bytes_up\", \"Smart TV  Max Mean Log₁₀(Uploaded Bytes)\", \"smart_tv_max_mean_up\"),\n",
    "    (df_smart_tv_max_mean_down, \"log_bytes_down\", \"Smart TV  Max Mean Log₁₀(Downloaded Bytes)\", \"smart_tv_max_mean_down\"),\n",
    "]:\n",
    "    smart_tv_hist_bin = calculate_bin(df[column])\n",
    "    fig = plt.figure()\n",
    "    plt.hist(\n",
    "        df[column],\n",
    "        bins=smart_tv_hist_bin,\n",
    "        color=(\"blue\" if column == \"log_bytes_up\" else \"red\"),\n",
    "        alpha=0.5,\n",
    "        edgecolor=\"black\",\n",
    "    )\n",
    "    plt.xlabel(\"Log₁₀(Uploaded Bytes)\" if column == \"log_bytes_up\" else \"Log₁₀(Downloaded Bytes)\")\n",
    "    plt.ylabel(\"Frequency\")\n",
    "    plt.title(f\"Histogram for {name} (Hour {df['hour'].iloc[0]})\")\n",
    "    fig.savefig(\n",
    "        f\"../images/fourth_section/smart_tv/histogram/smart_tv_histogram_{figure_name}.png\",\n",
    "        dpi=fig.dpi,\n",
    "    )"
   ]
  },
  {
   "attachments": {},
   "cell_type": "markdown",
   "metadata": {},
   "source": [
    "### MLE"
   ]
  },
  {
   "attachments": {},
   "cell_type": "markdown",
   "metadata": {},
   "source": [
    "#### Gamma"
   ]
  },
  {
   "cell_type": "code",
   "execution_count": 18,
   "metadata": {},
   "outputs": [
    {
     "name": "stdout",
     "output_type": "stream",
     "text": [
      "Gamma Distribution for Smart TV Max Median Log₁₀(Uploaded Bytes) (Hour 20)\n",
      "|    |   shape |      loc |    scale |\n",
      "|---:|--------:|---------:|---------:|\n",
      "|  0 | 217.147 | -23.8596 | 0.124245 |\n",
      "\n",
      "Gamma Distribution for Smart TV Max Median Log₁₀(Downloaded Bytes) (Hour 20)\n",
      "|    |   shape |      loc |     scale |\n",
      "|---:|--------:|---------:|----------:|\n",
      "|  0 | 896.547 | -71.0622 | 0.0830499 |\n",
      "\n",
      "Gamma Distribution for Smart TV Max Mean Log₁₀(Uploaded Bytes) (Hour 20)\n",
      "|    |   shape |      loc |    scale |\n",
      "|---:|--------:|---------:|---------:|\n",
      "|  0 | 217.147 | -23.8596 | 0.124245 |\n",
      "\n",
      "Gamma Distribution for Smart TV Max Mean Log₁₀(Downloaded Bytes) (Hour 20)\n",
      "|    |   shape |      loc |     scale |\n",
      "|---:|--------:|---------:|----------:|\n",
      "|  0 | 896.547 | -71.0622 | 0.0830499 |\n",
      "\n"
     ]
    }
   ],
   "source": [
    "for df, column, name in [\n",
    "    (df_smart_tv_max_median_up, \"log_bytes_up\", \"Smart TV Max Median Log₁₀(Uploaded Bytes)\"),\n",
    "    (df_smart_tv_max_median_down, \"log_bytes_down\", \"Smart TV Max Median Log₁₀(Downloaded Bytes)\"),\n",
    "    (df_smart_tv_max_mean_up, \"log_bytes_up\", \"Smart TV Max Mean Log₁₀(Uploaded Bytes)\"),\n",
    "    (df_smart_tv_max_mean_down, \"log_bytes_down\", \"Smart TV Max Mean Log₁₀(Downloaded Bytes)\"),\n",
    "]:\n",
    "    shape, loc, scale = gamma.fit(df[column])\n",
    "    df_gamma = pd.DataFrame(\n",
    "        {\n",
    "            \"shape\": [shape], \n",
    "            \"loc\": [loc], \n",
    "            \"scale\": [scale]\n",
    "        }\n",
    "    )\n",
    "    print(f\"Gamma Distribution for {name} (Hour {df['hour'].iloc[0]})\")\n",
    "    print(df_gamma.to_markdown())\n",
    "    print()"
   ]
  },
  {
   "attachments": {},
   "cell_type": "markdown",
   "metadata": {},
   "source": [
    "#### Gaussian"
   ]
  },
  {
   "cell_type": "code",
   "execution_count": 19,
   "metadata": {},
   "outputs": [
    {
     "name": "stdout",
     "output_type": "stream",
     "text": [
      "Gaussian Distribution for Smart TV Max Median Log₁₀(Uploaded Bytes) (Hour 20)\n",
      "|    |    mean |   median |\n",
      "|---:|--------:|---------:|\n",
      "|  0 | 3.12426 |  3.53052 |\n",
      "\n",
      "Gaussian Distribution for Smart TV Max Median Log₁₀(Downloaded Bytes) (Hour 20)\n",
      "|    |    mean |   median |\n",
      "|---:|--------:|---------:|\n",
      "|  0 | 3.39609 |  2.88961 |\n",
      "\n",
      "Gaussian Distribution for Smart TV Max Mean Log₁₀(Uploaded Bytes) (Hour 20)\n",
      "|    |    mean |   median |\n",
      "|---:|--------:|---------:|\n",
      "|  0 | 3.12426 |  3.53052 |\n",
      "\n",
      "Gaussian Distribution for Smart TV Max Mean Log₁₀(Downloaded Bytes) (Hour 20)\n",
      "|    |    mean |   median |\n",
      "|---:|--------:|---------:|\n",
      "|  0 | 3.39609 |  2.88961 |\n",
      "\n"
     ]
    }
   ],
   "source": [
    "for df, column, name in [\n",
    "    (df_smart_tv_max_median_up, \"log_bytes_up\", \"Smart TV Max Median Log₁₀(Uploaded Bytes)\"),\n",
    "    (df_smart_tv_max_median_down, \"log_bytes_down\", \"Smart TV Max Median Log₁₀(Downloaded Bytes)\"),\n",
    "    (df_smart_tv_max_mean_up, \"log_bytes_up\", \"Smart TV Max Mean Log₁₀(Uploaded Bytes)\"),\n",
    "    (df_smart_tv_max_mean_down, \"log_bytes_down\", \"Smart TV Max Mean Log₁₀(Downloaded Bytes)\"),\n",
    "]:\n",
    "    df_mean_median = pd.DataFrame(\n",
    "        {\n",
    "            \"mean\": [df[column].mean()], \n",
    "            \"median\": [df[column].median()]\n",
    "        }\n",
    "    )\n",
    "    print(f\"Gaussian Distribution for {name} (Hour {df['hour'].iloc[0]})\")\n",
    "    print(df_mean_median.to_markdown())\n",
    "    print()"
   ]
  },
  {
   "attachments": {},
   "cell_type": "markdown",
   "metadata": {},
   "source": [
    "### Histogram with MLE"
   ]
  },
  {
   "cell_type": "code",
   "execution_count": null,
   "metadata": {},
   "outputs": [],
   "source": [
    "for df, column, title, column_name in [\n",
    "    (df_smart_tv_max_median_up, \"log_bytes_up\", \"Smart TV Max Median Log₁₀(Uploaded Bytes)\", \"log_bytes_up_max_median\"),\n",
    "    (df_smart_tv_max_median_down, \"log_bytes_down\", \"Smart TV Max Median Log₁₀(Downloaded Bytes)\", \"log_bytes_down_max_median\"),\n",
    "    (df_smart_tv_max_mean_up, \"log_bytes_up\", \"Smart TV Max Mean Log₁₀(Uploaded Bytes)\", \"log_bytes_up_max_mean\"),\n",
    "    (df_smart_tv_max_mean_down, \"log_bytes_down\", \"Smart TV Max Mean Log₁₀(Downloaded Bytes)\", \"log_bytes_down_max_mean\"),\n",
    "]:\n",
    "    fig = plt.figure()\n",
    "    smart_tv_hist_bin = calculate_bin(df[column])\n",
    "    plt.hist(\n",
    "        df[column],\n",
    "        bins=smart_tv_hist_bin,\n",
    "        color=(\"blue\" if column == \"log_bytes_up\" else \"red\"),\n",
    "        alpha=0.5,\n",
    "        edgecolor=\"black\",\n",
    "        label=\"Histogram\",\n",
    "        density=True,\n",
    "    )\n",
    "\n",
    "    x = np.linspace(df[column].min(), df[column].max(), len(df[column]))\n",
    "\n",
    "    shape, loc, scale = gamma.fit(df[column])\n",
    "    gamma_distribution = gamma.pdf(x, shape, loc, scale)\n",
    "\n",
    "    mean, std = norm.fit(df[column])\n",
    "    gaussian_distribution = norm.pdf(x, mean, std)\n",
    "\n",
    "    plt.plot(x, gamma_distribution, label=\"Gamma\", color=\"green\")\n",
    "    plt.plot(x, gaussian_distribution, label=\"Gaussian\", color=\"orange\")\n",
    "    plt.xlabel(\"Log₁₀(Uploaded Bytes)\" if column == \"log_bytes_up\" else \"Log₁₀(Downloaded Bytes)\")\n",
    "    plt.ylabel(\"Frequency\")\n",
    "    plt.title(f\"Histogram for {title} (Hour {df['hour'].iloc[0]})\")\n",
    "    plt.legend(loc=\"best\")\n",
    "    fig.savefig(\n",
    "        f\"../images/fourth_section/smart_tv/histogram_mle/smart_tv_histogram_mle_{column_name}.png\",\n",
    "        dpi=fig.dpi,\n",
    "    )"
   ]
  },
  {
   "attachments": {},
   "cell_type": "markdown",
   "metadata": {},
   "source": [
    "### Probability Plot"
   ]
  },
  {
   "cell_type": "code",
   "execution_count": null,
   "metadata": {},
   "outputs": [],
   "source": [
    "for df, column, name, figure_name in [\n",
    "    (df_smart_tv_max_median_up, \"log_bytes_up\", \"Smart TV Max Median Log₁₀(Uploaded Bytes)\", \"smart_tv_max_median_up\"),\n",
    "    (df_smart_tv_max_median_down, \"log_bytes_down\", \"Smart TV Max Median Log₁₀(Downloaded Bytes)\", \"smart_tv_max_median_down\"),\n",
    "    (df_smart_tv_max_mean_up, \"log_bytes_up\", \"Smart TV Max Mean Log₁₀(Uploaded Bytes)\", \"smart_tv_max_mean_up\"),\n",
    "    (df_smart_tv_max_mean_down, \"log_bytes_down\", \"Smart TV Max Mean Log₁₀(Downloaded Bytes)\", \"smart_tv_max_mean_down\"),\n",
    "]:\n",
    "\n",
    "    fig, axes = plt.subplots(1, 2, figsize=(18, 5))\n",
    "\n",
    "    fig.suptitle(f\"Probability Plot for {name} (Hour {df['hour'].iloc[0]})\")\n",
    "\n",
    "    x = df[column]\n",
    "    probplot(x, dist=gamma, sparams=(shape, loc, scale), plot=axes[0])\n",
    "    probplot(x, dist=norm, sparams=(df[column].mean(), df[column].std()), plot=axes[1])\n",
    "\n",
    "    axes[0].set_title(f\"Gamma Distribution\")\n",
    "    axes[1].set_title(f\"Gaussian Distribution\")\n",
    "\n",
    "    axes[0].set(xlabel=\"Theoretical Quantiles\", ylabel=\"Ordered Values\")\n",
    "    axes[1].set(xlabel=\"Theoretical Quantiles\", ylabel=\"Ordered Values\")\n",
    "    fig.savefig(\n",
    "        f\"../images/fourth_section/smart_tv/probability_plot/probability_plot_{figure_name}.png\",\n",
    "        dpi=fig.dpi,\n",
    "    )\n",
    "    plt.show()"
   ]
  },
  {
   "attachments": {},
   "cell_type": "markdown",
   "metadata": {},
   "source": [
    "# Fifth Section"
   ]
  },
  {
   "attachments": {},
   "cell_type": "markdown",
   "metadata": {},
   "source": [
    "## Sampling Correlation Coefficient"
   ]
  },
  {
   "cell_type": "code",
   "execution_count": 80,
   "metadata": {},
   "outputs": [
    {
     "name": "stdout",
     "output_type": "stream",
     "text": [
      "Pearson's correlation coefficient for Smart TV Max Median Log₁₀(Bytes)\n",
      "|    |   pearson_coef |   p_value | name                             |\n",
      "|---:|---------------:|----------:|:---------------------------------|\n",
      "|  0 |       0.915609 |         0 | Smart TV Max Median Log₁₀(Bytes) |\n",
      "\n",
      "Pearson's correlation coefficient for Smart TV Max Mean Log₁₀(Bytes)\n",
      "|    |   pearson_coef |   p_value | name                           |\n",
      "|---:|---------------:|----------:|:-------------------------------|\n",
      "|  0 |       0.915609 |         0 | Smart TV Max Mean Log₁₀(Bytes) |\n",
      "\n",
      "Pearson's correlation coefficient for Chromecast Max Median Log₁₀(Bytes)\n",
      "|    |   pearson_coef |   p_value | name                               |\n",
      "|---:|---------------:|----------:|:-----------------------------------|\n",
      "|  0 |       0.792504 |         0 | Chromecast Max Median Log₁₀(Bytes) |\n",
      "\n",
      "Pearson's correlation coefficient for Chromecast Max Median Log₁₀(Bytes)\n",
      "|    |   pearson_coef |   p_value | name                               |\n",
      "|---:|---------------:|----------:|:-----------------------------------|\n",
      "|  0 |       0.792504 |         0 | Chromecast Max Median Log₁₀(Bytes) |\n",
      "\n"
     ]
    }
   ],
   "source": [
    "for df1, df2, name in [\n",
    "    (\n",
    "        df_smart_tv_max_median_up, \n",
    "        df_smart_tv_max_median_down, \n",
    "        \"Smart TV Max Median Log₁₀(Bytes)\"),\n",
    "    (\n",
    "        df_smart_tv_max_mean_up, \n",
    "        df_smart_tv_max_mean_down, \n",
    "        \"Smart TV Max Mean Log₁₀(Bytes)\"),\n",
    "    (\n",
    "        df_chromecast_max_median_up_same_download_hour,\n",
    "        df_chromecast_max_median_down,\n",
    "        \"Chromecast Max Median Log₁₀(Bytes)\"\n",
    "    ),\n",
    "    (\n",
    "        df_chromecast_max_mean_up_same_download_hour, \n",
    "        df_chromecast_max_mean_down, \n",
    "        \"Chromecast Max Median Log₁₀(Bytes)\"),\n",
    "]:\n",
    "    if df1.shape[0] != df2.shape[0]:\n",
    "        if df1.shape[0] > df2.shape[0]:\n",
    "            df1 = df1.sample(n=df2.shape[0])\n",
    "        else:\n",
    "            df2 = df2.sample(n=df1.shape[0])\n",
    "\n",
    "    pearson_coef, p_value = pearsonr(df1[\"log_bytes_up\"], df2[\"log_bytes_down\"])\n",
    "    df_coef = pd.DataFrame(\n",
    "        {\n",
    "            \"pearson_coef\": [pearson_coef], \n",
    "            \"p_value\": [p_value], \"name\": [name]\n",
    "        }\n",
    "    )\n",
    "    print(f\"Pearson's correlation coefficient for {name}\")\n",
    "    print(df_coef.to_markdown())\n",
    "    print()"
   ]
  },
  {
   "attachments": {},
   "cell_type": "markdown",
   "metadata": {},
   "source": [
    "## Sample Correlation Coefficient Graph"
   ]
  },
  {
   "cell_type": "code",
   "execution_count": null,
   "metadata": {},
   "outputs": [],
   "source": [
    "for df1, df2, title, figure_name in [\n",
    "    (\n",
    "        df_smart_tv_max_median_up,\n",
    "        df_smart_tv_max_median_down,\n",
    "        \"Smart TV Max Median Log₁₀(Uploaded Bytes) and Log₁₀(Downloaded Bytes)\",\n",
    "        \"smart_tv_max_median\",\n",
    "    ),\n",
    "    (\n",
    "        df_smart_tv_max_mean_up,\n",
    "        df_smart_tv_max_mean_down,\n",
    "        \"Smart TV Max Mean Log₁₀(Uploaded Bytes) and Log₁₀(Downloaded Bytes)\",\n",
    "        \"smart_tv_max_mean\",\n",
    "    ),\n",
    "    (\n",
    "        df_chromecast_max_median_up_same_download_hour,\n",
    "        df_chromecast_max_median_down,\n",
    "        \"Chromecast Max Median Log₁₀(Uploaded Bytes) and Log₁₀(Downloaded Bytes)\",\n",
    "        \"chromecast_max_median\",\n",
    "    ),\n",
    "    (\n",
    "        df_chromecast_max_mean_up_same_download_hour, \n",
    "        df_chromecast_max_mean_down, \n",
    "        \"Chromecast Max Mean Log₁₀(Uploaded Bytes) and Log₁₀(Downloaded Bytes)\",\n",
    "        \"chromecast_max_mean\",\n",
    "    ),\n",
    "]:\n",
    "    if df1.shape[0] != df2.shape[0]:\n",
    "        if df1.shape[0] > df2.shape[0]:\n",
    "            df1 = df1.sample(n=df2.shape[0])\n",
    "        else:\n",
    "            df2 = df2.sample(n=df1.shape[0])\n",
    "\n",
    "    fig = plt.figure()\n",
    "    plt.scatter(df1[\"log_bytes_up\"], df2[\"log_bytes_down\"])\n",
    "    plt.xlabel(\"Log₁₀(Uploaded Bytes)\")\n",
    "    plt.ylabel(\"Log₁₀(Downloaded Bytes)\")\n",
    "    plt.title(f\"Scatter Plot for {title}\")\n",
    "\n",
    "    folder = (\n",
    "        f\"../images/fifth_section/smart_tv\"\n",
    "        if \"smart_tv\" in figure_name\n",
    "        else f\"../images/fifth_section/chromecast\"\n",
    "    )\n",
    "\n",
    "    fig.savefig(\n",
    "        f\"{folder}/scatter_plot/scatter_plot_{figure_name}.png\",\n",
    "        dpi=fig.dpi,\n",
    "    )\n",
    "\n",
    "    plt.show()"
   ]
  },
  {
   "attachments": {},
   "cell_type": "markdown",
   "metadata": {},
   "source": [
    "# Sixth Section"
   ]
  },
  {
   "attachments": {},
   "cell_type": "markdown",
   "metadata": {},
   "source": [
    "## G-test"
   ]
  },
  {
   "cell_type": "code",
   "execution_count": 81,
   "metadata": {},
   "outputs": [
    {
     "name": "stdout",
     "output_type": "stream",
     "text": [
      "|    |   g_test |   p_value | name                                                | column         |\n",
      "|---:|---------:|----------:|:----------------------------------------------------|:---------------|\n",
      "|  0 |  1.74065 |  0.999996 | smart_tv_max_median_up_chromecast_max_median_up     | log_bytes_up   |\n",
      "|  1 |  1.74065 |  0.999996 | smart_tv_max_mean_up_chromecast_max_mean_up         | log_bytes_up   |\n",
      "|  2 |  2.35922 |  0.999967 | smart_tv_max_median_down_chromecast_max_median_down | log_bytes_down |\n",
      "|  3 |  2.35922 |  0.999967 | smart_tv_max_mean_down_chromecast_max_mean_down     | log_bytes_down |\n"
     ]
    }
   ],
   "source": [
    "df_g_test = pd.DataFrame(columns=[\"g_test\", \"p_value\", \"name\", \"column\"])\n",
    "\n",
    "for df1, df2, name, column in [\n",
    "    (\n",
    "        df_smart_tv_max_median_up,\n",
    "        df_chromecast_max_median_up,\n",
    "        \"smart_tv_max_median_up_chromecast_max_median_up\",\n",
    "        \"log_bytes_up\",\n",
    "    ),\n",
    "    (\n",
    "        df_smart_tv_max_mean_up,\n",
    "        df_chromecast_max_mean_up,\n",
    "        \"smart_tv_max_mean_up_chromecast_max_mean_up\",\n",
    "        \"log_bytes_up\",\n",
    "    ),\n",
    "    (\n",
    "        df_smart_tv_max_median_down,\n",
    "        df_chromecast_max_median_down,\n",
    "        \"smart_tv_max_median_down_chromecast_max_median_down\",\n",
    "        \"log_bytes_down\",\n",
    "    ),\n",
    "    (\n",
    "        df_smart_tv_max_mean_down,\n",
    "        df_chromecast_max_mean_down,\n",
    "        \"smart_tv_max_mean_down_chromecast_max_mean_down\",\n",
    "        \"log_bytes_down\",\n",
    "    ),\n",
    "]:\n",
    "    df1, df2 = segment_data_into_bins(df1, df2, column)\n",
    "\n",
    "    observed_upload_df1 = df1[f\"{column}_bins\"].value_counts().sort_index()\n",
    "    observed_upload_df2 = df2[f\"{column}_bins\"].value_counts().sort_index()\n",
    "\n",
    "    observed_upload_df1 = observed_upload_df1 / observed_upload_df1.sum()\n",
    "    observed_upload_df2 = observed_upload_df2 / observed_upload_df2.sum()\n",
    "    \n",
    "    g, p = power_divergence(observed_upload_df1, observed_upload_df2, lambda_='log-likelihood')\n",
    "\n",
    "    df_g_test = df_g_test.append(\n",
    "        {\n",
    "            \"g_test\": g,\n",
    "            \"p_value\": p,\n",
    "            \"name\": name,\n",
    "            \"column\": column,\n",
    "        },\n",
    "        ignore_index=True,\n",
    "    )\n",
    "\n",
    "print(df_g_test.to_markdown())"
   ]
  },
  {
   "attachments": {},
   "cell_type": "markdown",
   "metadata": {},
   "source": []
  }
 ],
 "metadata": {
  "kernelspec": {
   "display_name": "Python 3",
   "language": "python",
   "name": "python3"
  },
  "language_info": {
   "codemirror_mode": {
    "name": "ipython",
    "version": 3
   },
   "file_extension": ".py",
   "mimetype": "text/x-python",
   "name": "python",
   "nbconvert_exporter": "python",
   "pygments_lexer": "ipython3",
   "version": "3.10.9"
  },
  "orig_nbformat": 4,
  "vscode": {
   "interpreter": {
    "hash": "a6ac60002819e048c10cb453e512591b611cadd0fa6445e6d3bcb42557ef5ea9"
   }
  }
 },
 "nbformat": 4,
 "nbformat_minor": 2
}
