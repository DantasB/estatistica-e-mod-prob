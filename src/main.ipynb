{
 "cells": [
  {
   "attachments": {},
   "cell_type": "markdown",
   "metadata": {},
   "source": [
    "# Libraries"
   ]
  },
  {
   "cell_type": "code",
   "execution_count": null,
   "metadata": {},
   "outputs": [],
   "source": [
    "import pandas as pd\n",
    "import numpy as np\n",
    "import matplotlib.pyplot as plt\n",
    "from scipy.stats import gamma"
   ]
  },
  {
   "attachments": {},
   "cell_type": "markdown",
   "metadata": {},
   "source": [
    "# Auxiliary functions"
   ]
  },
  {
   "cell_type": "code",
   "execution_count": null,
   "metadata": {},
   "outputs": [],
   "source": [
    "def gaussian(x, mean, std):\n",
    "    return (1/(np.sqrt(2*np.pi)*std))*np.exp(-0.5*((x-mean)/std)**2)"
   ]
  },
  {
   "cell_type": "code",
   "execution_count": null,
   "metadata": {},
   "outputs": [],
   "source": [
    "def calculate_bin(data_column):\n",
    "    return int(1 + 3.3 * np.log10(len(data_column)))"
   ]
  },
  {
   "cell_type": "code",
   "execution_count": null,
   "metadata": {},
   "outputs": [],
   "source": [
    "def gamma_function(shape):\n",
    "    gamma = [1]\n",
    "    for i in range(1, int(shape)+1):\n",
    "        gamma.append(gamma[i-1] * i)\n",
    "    return gamma[-2]"
   ]
  },
  {
   "cell_type": "code",
   "execution_count": null,
   "metadata": {},
   "outputs": [],
   "source": [
    "def gamma_distribution(x, shape, scale):\n",
    "    return (x**(shape-1) * np.exp(-x/scale)) / (scale**shape * gamma_function(shape))"
   ]
  },
  {
   "attachments": {},
   "cell_type": "markdown",
   "metadata": {},
   "source": [
    "# Read Data"
   ]
  },
  {
   "cell_type": "code",
   "execution_count": null,
   "metadata": {},
   "outputs": [],
   "source": [
    "df_chromecast = pd.read_csv(\"../data/dataset_chromecast.csv\")\n",
    "df_smart_tv = pd.read_csv(\"../data/dataset_smart-tv.csv\")"
   ]
  },
  {
   "attachments": {},
   "cell_type": "markdown",
   "metadata": {},
   "source": [
    "# Data Preprocessing"
   ]
  },
  {
   "attachments": {},
   "cell_type": "markdown",
   "metadata": {},
   "source": [
    "## Log Transformation"
   ]
  },
  {
   "attachments": {},
   "cell_type": "markdown",
   "metadata": {},
   "source": [
    "### Chromecast"
   ]
  },
  {
   "cell_type": "code",
   "execution_count": null,
   "metadata": {},
   "outputs": [],
   "source": [
    "df_chromecast[\"log_bytes_down\"] = np.log10(df_smart_tv[\"bytes_down\"] + 1)\n",
    "df_chromecast[\"log_bytes_up\"] = np.log10(df_smart_tv[\"bytes_up\"] + 1)"
   ]
  },
  {
   "attachments": {},
   "cell_type": "markdown",
   "metadata": {},
   "source": [
    "### Smart TV"
   ]
  },
  {
   "cell_type": "code",
   "execution_count": null,
   "metadata": {},
   "outputs": [],
   "source": [
    "df_smart_tv[\"log_bytes_down\"] = np.log10(df_smart_tv[\"bytes_down\"] + 1)\n",
    "df_smart_tv[\"log_bytes_up\"] = np.log10(df_smart_tv[\"bytes_up\"] + 1)"
   ]
  },
  {
   "attachments": {},
   "cell_type": "markdown",
   "metadata": {},
   "source": [
    "## Create Hour Column"
   ]
  },
  {
   "attachments": {},
   "cell_type": "markdown",
   "metadata": {},
   "source": [
    "### Chromecast"
   ]
  },
  {
   "cell_type": "code",
   "execution_count": null,
   "metadata": {},
   "outputs": [],
   "source": [
    "df_chromecast[\"hour\"] = df_chromecast[\"date_hour\"].apply(\n",
    "    lambda x: int(x.split(\" \")[1].split(\":\")[0])\n",
    ")"
   ]
  },
  {
   "attachments": {},
   "cell_type": "markdown",
   "metadata": {},
   "source": [
    "### Smart TV"
   ]
  },
  {
   "cell_type": "code",
   "execution_count": null,
   "metadata": {},
   "outputs": [],
   "source": [
    "df_smart_tv[\"hour\"] = df_smart_tv[\"date_hour\"].apply(\n",
    "    lambda x: int(x.split(\" \")[1].split(\":\")[0])\n",
    ")"
   ]
  },
  {
   "attachments": {},
   "cell_type": "markdown",
   "metadata": {},
   "source": [
    "# Second Section"
   ]
  },
  {
   "attachments": {},
   "cell_type": "markdown",
   "metadata": {},
   "source": [
    "## Chromecast"
   ]
  },
  {
   "attachments": {},
   "cell_type": "markdown",
   "metadata": {},
   "source": [
    "### Histogram"
   ]
  },
  {
   "cell_type": "code",
   "execution_count": null,
   "metadata": {},
   "outputs": [],
   "source": [
    "chromecast_hist_bin = calculate_bin(df_chromecast[\"log_bytes_up\"])\n",
    "fig = plt.figure()\n",
    "plt.hist(\n",
    "    df_chromecast[\"log_bytes_up\"],\n",
    "    bins=chromecast_hist_bin,\n",
    "    color=\"blue\",\n",
    "    alpha=0.5,\n",
    "    edgecolor=\"black\",\n",
    ")\n",
    "plt.xlabel(\"Bytes Up\")\n",
    "plt.ylabel(\"Frequency\")\n",
    "plt.title(\"Chromecast histogram of Bytes Up\")\n",
    "fig.savefig(\n",
    "    \"../images/chromecast/general/histogram/chromecast_hist_bytes_up.png\", \n",
    "    dpi=fig.dpi\n",
    ")"
   ]
  },
  {
   "cell_type": "code",
   "execution_count": null,
   "metadata": {},
   "outputs": [],
   "source": [
    "chromecast_hist_bin = calculate_bin(df_chromecast[\"log_bytes_down\"])\n",
    "fig = plt.figure()\n",
    "plt.hist(\n",
    "    df_chromecast[\"log_bytes_down\"],\n",
    "    bins=chromecast_hist_bin,\n",
    "    color=\"red\",\n",
    "    alpha=0.5,\n",
    "    edgecolor=\"black\",\n",
    ")\n",
    "plt.xlabel(\"Bytes Down\")\n",
    "plt.ylabel(\"Frequency\")\n",
    "plt.title(\"Chromecast histogram of Bytes Down\")\n",
    "fig.savefig(\n",
    "    \"../images/chromecast/general/histogram/chromecast_hist_bytes_down.png\", \n",
    "    dpi=fig.dpi\n",
    ")"
   ]
  },
  {
   "attachments": {},
   "cell_type": "markdown",
   "metadata": {},
   "source": [
    "### Empirical Distribution Function"
   ]
  },
  {
   "cell_type": "code",
   "execution_count": null,
   "metadata": {},
   "outputs": [],
   "source": [
    "fig = plt.figure()\n",
    "plt.plot(\n",
    "    df_chromecast[\"log_bytes_up\"].sort_values(),\n",
    "    np.linspace(0, 1, len(df_chromecast[\"log_bytes_up\"])),\n",
    "    color=\"blue\",\n",
    "    marker=\".\",\n",
    ")\n",
    "plt.xlabel(\"Bytes Up\")\n",
    "plt.ylabel(\"Fx(x)\")\n",
    "plt.title(\"Chromecast Empirical Distribution Function of Bytes Up\")\n",
    "fig.savefig(\n",
    "    \"../images/chromecast/general/edf/chromecast_edf_bytes_up.png\", \n",
    "    dpi=fig.dpi\n",
    ")"
   ]
  },
  {
   "cell_type": "code",
   "execution_count": null,
   "metadata": {},
   "outputs": [],
   "source": [
    "fig = plt.figure()\n",
    "plt.plot(\n",
    "    df_chromecast[\"log_bytes_down\"].sort_values(),\n",
    "    np.linspace(0, 1, len(df_chromecast[\"log_bytes_down\"])),\n",
    "    color=\"red\",\n",
    "    marker=\".\",\n",
    ")\n",
    "plt.xlabel(\"Bytes Down\")\n",
    "plt.ylabel(\"Fx(x)\")\n",
    "plt.title(\"Chromecast Empirical Distribution Function of Bytes Down\")\n",
    "fig.savefig(\n",
    "    \"../images/chromecast/general/edf/chromecast_edf_bytes_down.png\", \n",
    "    dpi=fig.dpi\n",
    ")"
   ]
  },
  {
   "attachments": {},
   "cell_type": "markdown",
   "metadata": {},
   "source": [
    "### Boxplot"
   ]
  },
  {
   "cell_type": "code",
   "execution_count": null,
   "metadata": {},
   "outputs": [],
   "source": [
    "fig = plt.figure()\n",
    "plt.boxplot(\n",
    "    [df_chromecast[\"log_bytes_up\"], df_chromecast[\"log_bytes_down\"]],\n",
    "    labels=[\"Bytes Up\", \"Bytes Down\"],\n",
    "    patch_artist=True,\n",
    "    boxprops=dict(facecolor=\"cyan\", color=\"black\"),\n",
    "    medianprops=dict(color=\"black\"),\n",
    "    whiskerprops=dict(color=\"black\"),\n",
    "    capprops=dict(color=\"black\"),\n",
    ")\n",
    "plt.ylabel(\"Bytes\")\n",
    "plt.title(\"Chromecast Boxplot of Bytes Up and Bytes Down\")\n",
    "fig.savefig(\n",
    "    \"../images/chromecast/general/boxplot/chromecast_boxplot_bytes_up_down.png\",\n",
    "    dpi=fig.dpi,\n",
    ")"
   ]
  },
  {
   "attachments": {},
   "cell_type": "markdown",
   "metadata": {},
   "source": [
    "### Statistical Analysis"
   ]
  },
  {
   "cell_type": "code",
   "execution_count": null,
   "metadata": {},
   "outputs": [],
   "source": [
    "chromecast_bytes_up_down = pd.DataFrame(\n",
    "    {\n",
    "        \"Bytes Up\": [\n",
    "            df_chromecast[\"log_bytes_up\"].mean(),\n",
    "            df_chromecast[\"log_bytes_up\"].var(),\n",
    "            df_chromecast[\"log_bytes_up\"].std(),\n",
    "        ],\n",
    "        \"Bytes Down\": [\n",
    "            df_chromecast[\"log_bytes_down\"].mean(),\n",
    "            df_chromecast[\"log_bytes_down\"].var(),\n",
    "            df_chromecast[\"log_bytes_down\"].std(),\n",
    "        ],\n",
    "    },\n",
    "    index=[\"Mean\", \"Variance\", \"Standard Deviation\"],\n",
    ")\n",
    "\n",
    "chromecast_bytes_up_down"
   ]
  },
  {
   "attachments": {},
   "cell_type": "markdown",
   "metadata": {},
   "source": [
    "## Smart TV"
   ]
  },
  {
   "attachments": {},
   "cell_type": "markdown",
   "metadata": {},
   "source": [
    "### Histogram"
   ]
  },
  {
   "cell_type": "code",
   "execution_count": null,
   "metadata": {},
   "outputs": [],
   "source": [
    "smart_tv_hist_bin = calculate_bin(df_smart_tv[\"log_bytes_up\"])\n",
    "fig = plt.figure()\n",
    "plt.hist(\n",
    "    df_smart_tv[\"log_bytes_up\"],\n",
    "    bins=smart_tv_hist_bin,\n",
    "    color=\"blue\",\n",
    "    alpha=0.5,\n",
    "    edgecolor=\"black\",\n",
    ")\n",
    "plt.xlabel(\"Bytes Up\")\n",
    "plt.ylabel(\"Frequency\")\n",
    "plt.title(\"Smart TV histogram of Bytes Up\")\n",
    "fig.savefig(\n",
    "    \"../images/smart_tv/general/histogram/smart_tv_hist_bytes_up.png\", \n",
    "    dpi=fig.dpi\n",
    ")"
   ]
  },
  {
   "cell_type": "code",
   "execution_count": null,
   "metadata": {},
   "outputs": [],
   "source": [
    "smart_tv_hist_bin = calculate_bin(df_smart_tv[\"log_bytes_down\"])\n",
    "fig = plt.figure()\n",
    "plt.hist(\n",
    "    df_smart_tv[\"log_bytes_down\"],\n",
    "    bins=smart_tv_hist_bin,\n",
    "    color=\"red\",\n",
    "    alpha=0.5,\n",
    "    edgecolor=\"black\",\n",
    ")\n",
    "plt.xlabel(\"Bytes Down\")\n",
    "plt.ylabel(\"Frequency\")\n",
    "plt.title(\"Smart TV histogram of Bytes Down\")\n",
    "fig.savefig(\n",
    "    \"../images/smart_tv/general/histogram/smart_tv_hist_bytes_down.png\", \n",
    "    dpi=fig.dpi\n",
    ")"
   ]
  },
  {
   "attachments": {},
   "cell_type": "markdown",
   "metadata": {},
   "source": [
    "### Empirical Distribution Function"
   ]
  },
  {
   "cell_type": "code",
   "execution_count": null,
   "metadata": {},
   "outputs": [],
   "source": [
    "fig = plt.figure()\n",
    "plt.plot(\n",
    "    df_smart_tv[\"log_bytes_up\"].sort_values(),\n",
    "    np.linspace(0, 1, len(df_smart_tv[\"log_bytes_up\"])),\n",
    "    color=\"blue\",\n",
    "    marker=\".\",\n",
    ")\n",
    "plt.xlabel(\"Bytes Up\")\n",
    "plt.ylabel(\"Fx(x)\")\n",
    "plt.title(\"Smart TV Empirical Distribution Function of Bytes Up\")\n",
    "fig.savefig(\n",
    "    \"../images/smart_tv/general/edf/smart_tv_edf_bytes_up.png\", \n",
    "    dpi=fig.dpi\n",
    ")"
   ]
  },
  {
   "cell_type": "code",
   "execution_count": null,
   "metadata": {},
   "outputs": [],
   "source": [
    "fig = plt.figure()\n",
    "plt.plot(\n",
    "    df_smart_tv[\"log_bytes_down\"].sort_values(),\n",
    "    np.linspace(0, 1, len(df_smart_tv[\"log_bytes_down\"])),\n",
    "    color=\"red\",\n",
    "    marker=\".\",\n",
    ")\n",
    "plt.xlabel(\"Bytes Down\")\n",
    "plt.ylabel(\"Fx(x)\")\n",
    "plt.title(\"Smart TV Empirical Distribution Function of Bytes Down\")\n",
    "fig.savefig(\n",
    "    \"../images/smart_tv/general/edf/smart_tv_edf_bytes_down.png\", \n",
    "    dpi=fig.dpi\n",
    ")"
   ]
  },
  {
   "attachments": {},
   "cell_type": "markdown",
   "metadata": {},
   "source": [
    "### Boxplot"
   ]
  },
  {
   "cell_type": "code",
   "execution_count": null,
   "metadata": {},
   "outputs": [],
   "source": [
    "fig = plt.figure()\n",
    "plt.boxplot(\n",
    "    [df_smart_tv[\"log_bytes_up\"], df_smart_tv[\"log_bytes_down\"]],\n",
    "    labels=[\"Bytes Up\", \"Bytes Down\"],\n",
    "    patch_artist=True,\n",
    "    boxprops=dict(facecolor=\"cyan\", color=\"black\"),\n",
    "    medianprops=dict(color=\"black\"),\n",
    "    whiskerprops=dict(color=\"black\"),\n",
    "    capprops=dict(color=\"black\"),\n",
    ")\n",
    "plt.ylabel(\"Bytes\")\n",
    "plt.title(\"Smart TV Boxplot of Bytes Up and Bytes Down\")\n",
    "fig.savefig(\n",
    "    \"../images/smart_tv/general/boxplot/smart_tv_boxplot_bytes_up_down.png\", \n",
    "    dpi=fig.dpi\n",
    ")"
   ]
  },
  {
   "attachments": {},
   "cell_type": "markdown",
   "metadata": {},
   "source": [
    "### Statistical Analysis"
   ]
  },
  {
   "cell_type": "code",
   "execution_count": null,
   "metadata": {},
   "outputs": [],
   "source": [
    "smart_tv_bytes_up_down = pd.DataFrame(\n",
    "    {\n",
    "        \"Bytes Up\": [\n",
    "            df_smart_tv[\"log_bytes_up\"].mean(),\n",
    "            df_smart_tv[\"log_bytes_up\"].var(),\n",
    "            df_smart_tv[\"log_bytes_up\"].std(),\n",
    "        ],\n",
    "        \"Bytes Down\": [\n",
    "            df_smart_tv[\"log_bytes_down\"].mean(),\n",
    "            df_smart_tv[\"log_bytes_down\"].var(),\n",
    "            df_smart_tv[\"log_bytes_down\"].std(),\n",
    "        ],\n",
    "    },\n",
    "    index=[\"Mean\", \"Variance\", \"Standard Deviation\"],\n",
    ")\n",
    "smart_tv_bytes_up_down"
   ]
  },
  {
   "attachments": {},
   "cell_type": "markdown",
   "metadata": {},
   "source": [
    "# Third Section"
   ]
  },
  {
   "attachments": {},
   "cell_type": "markdown",
   "metadata": {},
   "source": [
    "## Chromecast"
   ]
  },
  {
   "attachments": {},
   "cell_type": "markdown",
   "metadata": {},
   "source": [
    "### Boxplot"
   ]
  },
  {
   "cell_type": "code",
   "execution_count": null,
   "metadata": {},
   "outputs": [],
   "source": [
    "for hour in range(0, 24):\n",
    "    fig = plt.figure()\n",
    "    plt.boxplot(\n",
    "        [\n",
    "            df_chromecast[df_chromecast[\"hour\"] == hour][\"log_bytes_up\"],\n",
    "            df_chromecast[df_chromecast[\"hour\"] == hour][\"log_bytes_down\"],\n",
    "        ],\n",
    "        labels=[\"Bytes Up\", \"Bytes Down\"],\n",
    "        patch_artist=True,\n",
    "        boxprops=dict(facecolor=\"cyan\", color=\"black\"),\n",
    "        medianprops=dict(color=\"black\"),\n",
    "        whiskerprops=dict(color=\"black\"),\n",
    "        capprops=dict(color=\"black\"),\n",
    "    )\n",
    "    plt.ylabel(\"Bytes\")\n",
    "    plt.title(\"Chromecast Boxplot of Bytes Up and Bytes Down for Hour \" + str(hour))\n",
    "    fig.savefig(\n",
    "        f\"../images/chromecast/hourly/boxplot/chromecast_boxplot_bytes_up_down_hour_{hour}.png\",\n",
    "        dpi=fig.dpi,\n",
    "    )"
   ]
  },
  {
   "attachments": {},
   "cell_type": "markdown",
   "metadata": {},
   "source": [
    "### Statistical Analysis"
   ]
  },
  {
   "cell_type": "code",
   "execution_count": null,
   "metadata": {},
   "outputs": [],
   "source": [
    "fig = plt.figure()\n",
    "plt.plot(df_chromecast.groupby(\"hour\")[\"log_bytes_up\"].mean(), color=\"red\", marker=\".\")\n",
    "plt.plot(df_chromecast.groupby(\"hour\")[\"log_bytes_up\"].var(), color=\"green\", marker=\".\")\n",
    "plt.plot(df_chromecast.groupby(\"hour\")[\"log_bytes_up\"].std(), color=\"blue\", marker=\".\")\n",
    "plt.xlabel(\"Hour\")\n",
    "plt.ylabel(\"Bytes\")\n",
    "plt.legend([\"Mean\", \"Variance\", \"Standard Deviation\"])\n",
    "plt.title(\"Chromecast Bytes Up Mean, Variance and Standard Deviation by Hour\")\n",
    "fig.savefig(\n",
    "    \"../images/chromecast/hourly/statistical_analysis/chromecast_line_bytes_up_mean_var_std_hour.png\",\n",
    "    dpi=fig.dpi,\n",
    ")"
   ]
  },
  {
   "attachments": {},
   "cell_type": "markdown",
   "metadata": {},
   "source": [
    "## Smart TV"
   ]
  },
  {
   "attachments": {},
   "cell_type": "markdown",
   "metadata": {},
   "source": [
    "### Boxplot"
   ]
  },
  {
   "cell_type": "code",
   "execution_count": null,
   "metadata": {},
   "outputs": [],
   "source": [
    "for hour in range(0, 24):\n",
    "    fig = plt.figure()\n",
    "    plt.boxplot(\n",
    "        [\n",
    "            df_smart_tv[df_smart_tv[\"hour\"] == hour][\"log_bytes_up\"],\n",
    "            df_smart_tv[df_smart_tv[\"hour\"] == hour][\"log_bytes_down\"],\n",
    "        ],\n",
    "        labels=[\"Bytes Up\", \"Bytes Down\"],\n",
    "        patch_artist=True,\n",
    "        boxprops=dict(facecolor=\"cyan\", color=\"black\"),\n",
    "        medianprops=dict(color=\"black\"),\n",
    "        whiskerprops=dict(color=\"black\"),\n",
    "        capprops=dict(color=\"black\"),\n",
    "    )\n",
    "    plt.ylabel(\"Bytes\")\n",
    "    plt.title(\"Smart TV Boxplot of Bytes Up and Bytes Down for Hour \" + str(hour))\n",
    "    fig.savefig(\n",
    "        f\"../images/smart_tv/hourly/boxplot/smart_tv_boxplot_bytes_up_down_hour_{hour}.png\",\n",
    "        dpi=fig.dpi,\n",
    "    )"
   ]
  },
  {
   "attachments": {},
   "cell_type": "markdown",
   "metadata": {},
   "source": [
    "### Statistical Analysis"
   ]
  },
  {
   "cell_type": "code",
   "execution_count": null,
   "metadata": {},
   "outputs": [],
   "source": [
    "fig = plt.figure()\n",
    "plt.plot(df_smart_tv.groupby(\"hour\")[\"log_bytes_up\"].mean(), color=\"red\", marker=\".\")\n",
    "plt.plot(df_smart_tv.groupby(\"hour\")[\"log_bytes_up\"].var(), color=\"green\", marker=\".\")\n",
    "plt.plot(df_smart_tv.groupby(\"hour\")[\"log_bytes_up\"].std(), color=\"blue\", marker=\".\")\n",
    "plt.xlabel(\"Hour\")\n",
    "plt.ylabel(\"Bytes\")\n",
    "plt.legend([\"Mean\", \"Variance\", \"Standard Deviation\"])\n",
    "plt.title(\"Smart TV Bytes Up Mean, Variance and Standard Deviation by Hour\")\n",
    "fig.savefig(\n",
    "    \"../images/smart_tv/hourly/statistical_analysis/smart_tv_line_bytes_up_mean_var_std_hour.png\",\n",
    "    dpi=fig.dpi,\n",
    ")"
   ]
  },
  {
   "attachments": {},
   "cell_type": "markdown",
   "metadata": {},
   "source": [
    "# Fourth Section"
   ]
  },
  {
   "attachments": {},
   "cell_type": "markdown",
   "metadata": {},
   "source": [
    "## Chromecast"
   ]
  },
  {
   "attachments": {},
   "cell_type": "markdown",
   "metadata": {},
   "source": [
    "### Filter Dataset"
   ]
  },
  {
   "cell_type": "code",
   "execution_count": null,
   "metadata": {},
   "outputs": [],
   "source": [
    "hour_of_max_median_up_chromecast = df_chromecast.groupby(\"hour\")[\"bytes_up\"].median().idxmax()\n",
    "hour_of_max_mean_up_chromecast = df_chromecast.groupby(\"hour\")[\"bytes_up\"].mean().idxmax()\n",
    "hour_of_max_median_down_chromecast = df_chromecast.groupby(\"hour\")[\"bytes_down\"].median().idxmax()\n",
    "hour_of_max_mean_down_chromecast = df_chromecast.groupby(\"hour\")[\"bytes_down\"].mean().idxmax()"
   ]
  },
  {
   "cell_type": "code",
   "execution_count": null,
   "metadata": {},
   "outputs": [],
   "source": [
    "print(\n",
    "    f\"\"\"\n",
    "        Hour of max median bytes up: {hour_of_max_median_up_chromecast},\n",
    "        Hour of max median bytes down: {hour_of_max_median_down_chromecast}, \n",
    "        Hour of max mean bytes up: {hour_of_max_mean_up_chromecast}, \n",
    "        Hour of max mean bytes down: {hour_of_max_mean_down_chromecast}\n",
    "    \"\"\"\n",
    "    )"
   ]
  },
  {
   "cell_type": "code",
   "execution_count": null,
   "metadata": {},
   "outputs": [],
   "source": [
    "df_chromecast_max_median_up = df_chromecast[\n",
    "    (df_chromecast[\"hour\"] == hour_of_max_median_up_chromecast)\n",
    "][[\"hour\", \"bytes_up\", \"log_bytes_up\", \"device_id\"]]\n",
    "\n",
    "df_chromecast_max_mean_up = df_chromecast[\n",
    "    (df_chromecast[\"hour\"] == hour_of_max_mean_up_chromecast)\n",
    "][[\"hour\", \"bytes_up\", \"log_bytes_up\", \"device_id\"]]\n",
    "\n",
    "df_chromecast_max_median_down = df_chromecast[\n",
    "    (df_chromecast[\"hour\"] == hour_of_max_median_down_chromecast)\n",
    "][[\"hour\", \"bytes_down\", \"log_bytes_down\", \"device_id\"]]\n",
    "\n",
    "df_chromecast_max_mean_down = df_chromecast[\n",
    "    (df_chromecast[\"hour\"] == hour_of_max_mean_down_chromecast)\n",
    "][[\"hour\", \"bytes_down\", \"log_bytes_down\", \"device_id\"]]"
   ]
  },
  {
   "attachments": {},
   "cell_type": "markdown",
   "metadata": {},
   "source": [
    "### Histogram"
   ]
  },
  {
   "cell_type": "code",
   "execution_count": null,
   "metadata": {},
   "outputs": [],
   "source": [
    "for df, column in [\n",
    "    (df_chromecast_max_median_up, \"log_bytes_up\"),\n",
    "    (df_chromecast_max_median_down, \"log_bytes_down\"),\n",
    "    (df_chromecast_max_mean_up, \"log_bytes_up\"),\n",
    "    (df_chromecast_max_mean_down, \"log_bytes_down\")\n",
    "]:\n",
    "    chromecast_hist_bin = calculate_bin(df[column])\n",
    "    fig = plt.figure()\n",
    "    plt.hist(df[column], bins=chromecast_hist_bin, color=(\"blue\" if column==\"log_bytes_up\" else \"red\"), alpha=0.5, edgecolor=\"black\")\n",
    "    plt.xlabel(\"Bytes\")\n",
    "    plt.ylabel(\"Frequency\")\n",
    "    plt.title(f\"Smart TV Histogram of {column} for Hour \" + str(df[\"hour\"].iloc[0]))\n",
    "    fig.savefig(\n",
    "        f\"../images/chromecast/fourth_section/histogram/chromecast_histogram_{column}_hour_{df['hour'].iloc[0]}.png\",\n",
    "        dpi=fig.dpi,\n",
    "    )"
   ]
  },
  {
   "attachments": {},
   "cell_type": "markdown",
   "metadata": {},
   "source": [
    "### MLE"
   ]
  },
  {
   "attachments": {},
   "cell_type": "markdown",
   "metadata": {},
   "source": [
    "#### Gamma"
   ]
  },
  {
   "cell_type": "code",
   "execution_count": null,
   "metadata": {},
   "outputs": [],
   "source": [
    "chromecast_shape_median_up, _, chromecast_scale_median_up = gamma.fit(df_chromecast_max_median_up[\"log_bytes_up\"])\n",
    "chromecast_shape_median_down, _, chromecast_scale_median_down = gamma.fit(df_chromecast_max_median_down[\"log_bytes_down\"])\n",
    "chromecast_shape_mean_up, _, chromecast_scale_mean_up = gamma.fit(df_chromecast_max_mean_up[\"log_bytes_up\"])\n",
    "chromecast_shape_mean_down, _, chromecast_scale_mean_down = gamma.fit(df_chromecast_max_mean_down[\"log_bytes_down\"])"
   ]
  },
  {
   "cell_type": "code",
   "execution_count": null,
   "metadata": {},
   "outputs": [],
   "source": [
    "chromecast_gamma_median_up = gamma_distribution(df_chromecast_max_median_up[\"log_bytes_up\"], chromecast_shape_median_up, chromecast_scale_median_up)\n",
    "chromecast_gamma_median_down = gamma_distribution(df_chromecast_max_median_down[\"log_bytes_down\"], chromecast_shape_median_down, chromecast_scale_median_down)\n",
    "chromecast_gamma_mean_up = gamma_distribution(df_chromecast_max_mean_up[\"log_bytes_up\"], chromecast_shape_mean_up, chromecast_scale_mean_up)\n",
    "chromecast_gamma_mean_down = gamma_distribution(df_chromecast_max_mean_down[\"log_bytes_down\"], chromecast_shape_mean_down, chromecast_scale_mean_down)"
   ]
  },
  {
   "attachments": {},
   "cell_type": "markdown",
   "metadata": {},
   "source": [
    "#### Gaussian"
   ]
  },
  {
   "cell_type": "code",
   "execution_count": null,
   "metadata": {},
   "outputs": [],
   "source": [
    "chromecast_max_median_up_mean = df_chromecast_max_median_up[\"log_bytes_up\"].mean()\n",
    "chromecast_max_median_up_std = df_chromecast_max_median_up[\"log_bytes_up\"].std()\n",
    "\n",
    "chromecast_max_median_down_mean = df_chromecast_max_median_down[\"log_bytes_down\"].mean()\n",
    "chromecast_max_median_down_std = df_chromecast_max_median_down[\"log_bytes_down\"].std()\n",
    "\n",
    "chromecast_max_mean_up_mean = df_chromecast_max_mean_up[\"log_bytes_up\"].mean()\n",
    "chromecast_max_mean_up_std = df_chromecast_max_mean_up[\"log_bytes_up\"].std()\n",
    "\n",
    "chromecast_max_mean_down_mean = df_chromecast_max_mean_down[\"log_bytes_down\"].mean()\n",
    "chromecast_max_mean_down_std = df_chromecast_max_mean_down[\"log_bytes_down\"].std()"
   ]
  },
  {
   "cell_type": "code",
   "execution_count": null,
   "metadata": {},
   "outputs": [],
   "source": [
    "# use the previous mean and std to calculate the gaussian distribution using the gaussian function\n",
    "chromecast_max_median_up_gaussian = gaussian(\n",
    "    df_chromecast_max_median_up[\"log_bytes_up\"], chromecast_max_median_up_mean, chromecast_max_median_up_std\n",
    ")\n",
    "\n",
    "chromecast_max_median_down_gaussian = gaussian(\n",
    "    df_chromecast_max_median_down[\"log_bytes_down\"], chromecast_max_median_down_mean, chromecast_max_median_down_std\n",
    ")\n",
    "\n",
    "chromecast_max_mean_up_gaussian = gaussian(\n",
    "    df_chromecast_max_mean_up[\"log_bytes_up\"], chromecast_max_mean_up_mean, chromecast_max_mean_up_std\n",
    ")\n",
    "\n",
    "chromecast_max_mean_down_gaussian = gaussian(\n",
    "    df_chromecast_max_mean_down[\"log_bytes_down\"], chromecast_max_mean_down_mean, chromecast_max_mean_down_std\n",
    ")"
   ]
  },
  {
   "attachments": {},
   "cell_type": "markdown",
   "metadata": {},
   "source": [
    "### Histogram with MLE"
   ]
  },
  {
   "cell_type": "code",
   "execution_count": null,
   "metadata": {},
   "outputs": [],
   "source": [
    "for df, column, gaussian, mean, std in [\n",
    "    (df_chromecast_max_median_up, \"log_bytes_up\", chromecast_max_median_up_gaussian, chromecast_max_median_up_mean, chromecast_max_median_up_std),\n",
    "    (df_chromecast_max_median_down, \"log_bytes_down\", chromecast_max_median_down_gaussian, chromecast_max_median_down_mean, chromecast_max_median_down_std),\n",
    "    (df_chromecast_max_mean_up, \"log_bytes_up\", chromecast_max_mean_up_gaussian, chromecast_max_mean_up_mean, chromecast_max_mean_up_std),\n",
    "    (df_chromecast_max_mean_down, \"log_bytes_down\", chromecast_max_mean_down_gaussian, chromecast_max_mean_down_mean, chromecast_max_mean_down_std)\n",
    "]:\n",
    "    fig = plt.figure()\n",
    "    chromecast_hist_bin = calculate_bin(df[column])\n",
    "    plt.hist(df[column], bins=chromecast_hist_bin, color=(\"blue\" if column==\"log_bytes_up\" else \"red\"), alpha=0.5, edgecolor=\"black\")\n",
    "    plt.plot(df[column], gaussian)\n",
    "    plt.xlabel(\"Bytes\")\n",
    "    plt.ylabel(\"Frequency\")\n",
    "    plt.legend([\"Gaussian\", \"Histogram\"])\n",
    "    plt.title(f\"Smart TV Histogram of {column} for Hour \" + str(df[\"hour\"].iloc[0]))\n",
    "    fig.savefig(\n",
    "        f\"../images/chromecast/fourth_section/histogram_mle/chromecast_histogram_mle_{column}_hour_{df['hour'].iloc[0]}.png\",\n",
    "        dpi=fig.dpi,\n",
    "    )\n",
    "    print(f\"Hour {df['hour'].iloc[0]} - {column} - mean: {mean}, std: {std}\")"
   ]
  },
  {
   "attachments": {},
   "cell_type": "markdown",
   "metadata": {},
   "source": [
    "## Smart TV"
   ]
  },
  {
   "attachments": {},
   "cell_type": "markdown",
   "metadata": {},
   "source": [
    "### Filter Dataset"
   ]
  },
  {
   "cell_type": "code",
   "execution_count": null,
   "metadata": {},
   "outputs": [],
   "source": [
    "hour_of_max_median_up_smart_tv = df_smart_tv.groupby(\"hour\")[\"bytes_up\"].median().idxmax()\n",
    "hour_of_max_mean_up_smart_tv = df_smart_tv.groupby(\"hour\")[\"bytes_up\"].mean().idxmax()\n",
    "hour_of_max_median_down_smart_tv = df_smart_tv.groupby(\"hour\")[\"bytes_down\"].median().idxmax()\n",
    "hour_of_max_mean_down_smart_tv = df_smart_tv.groupby(\"hour\")[\"bytes_down\"].mean().idxmax()"
   ]
  },
  {
   "cell_type": "code",
   "execution_count": null,
   "metadata": {},
   "outputs": [],
   "source": [
    "print(\n",
    "    f\"\"\"\n",
    "        Hour of max median bytes up: {hour_of_max_median_up_smart_tv},\n",
    "        Hour of max median bytes down: {hour_of_max_median_down_smart_tv},\n",
    "        Hour of max mean bytes up: {hour_of_max_mean_up_smart_tv}, \n",
    "        Hour of max mean bytes down: {hour_of_max_mean_down_smart_tv}\n",
    "    \"\"\"\n",
    ")"
   ]
  },
  {
   "cell_type": "code",
   "execution_count": null,
   "metadata": {},
   "outputs": [],
   "source": [
    "df_smart_tv_max_median_up = df_smart_tv[\n",
    "    df_smart_tv[\"hour\"] == hour_of_max_median_up_smart_tv\n",
    "][[\"device_id\", \"hour\", \"bytes_up\", \"log_bytes_up\"]]\n",
    "\n",
    "df_smart_tv_max_median_down = df_smart_tv[\n",
    "    df_smart_tv[\"hour\"] == hour_of_max_median_down_smart_tv\n",
    "][[\"device_id\", \"hour\", \"bytes_down\", \"log_bytes_down\"]]\n",
    "\n",
    "df_smart_tv_max_mean_up = df_smart_tv[\n",
    "    df_smart_tv[\"hour\"] == hour_of_max_mean_up_smart_tv\n",
    "][[\"device_id\", \"hour\", \"bytes_up\", \"log_bytes_up\"]]\n",
    "\n",
    "df_smart_tv_max_mean_down = df_smart_tv[\n",
    "    df_smart_tv[\"hour\"] == hour_of_max_mean_down_smart_tv\n",
    "][[\"device_id\", \"hour\", \"bytes_down\", \"log_bytes_down\"]]"
   ]
  },
  {
   "attachments": {},
   "cell_type": "markdown",
   "metadata": {},
   "source": [
    "### Histogram"
   ]
  },
  {
   "cell_type": "code",
   "execution_count": null,
   "metadata": {},
   "outputs": [],
   "source": [
    "for df, column in [\n",
    "    (df_smart_tv_max_median_up, \"log_bytes_up\"),\n",
    "    (df_smart_tv_max_median_down, \"log_bytes_down\"),\n",
    "    (df_smart_tv_max_mean_up, \"log_bytes_up\"),\n",
    "    (df_smart_tv_max_mean_down, \"log_bytes_down\")\n",
    "]:\n",
    "    smart_tv_hist_bin = calculate_bin(df[column])\n",
    "    fig = plt.figure()\n",
    "    plt.hist(df[column], bins=smart_tv_hist_bin, color=(\"blue\" if column==\"log_bytes_up\" else \"red\"), alpha=0.5, edgecolor=\"black\")\n",
    "    plt.xlabel(\"Bytes\")\n",
    "    plt.ylabel(\"Frequency\")\n",
    "    plt.title(f\"Smart TV Histogram of {column} for Hour \" + str(df[\"hour\"].iloc[0]))\n",
    "    fig.savefig(\n",
    "        f\"../images/smart_tv/fourth_section/histogram/smart_tv_histogram_{column}_hour_{df['hour'].iloc[0]}.png\",\n",
    "        dpi=fig.dpi,\n",
    "    )"
   ]
  },
  {
   "attachments": {},
   "cell_type": "markdown",
   "metadata": {},
   "source": [
    "### MLE"
   ]
  },
  {
   "attachments": {},
   "cell_type": "markdown",
   "metadata": {},
   "source": [
    "#### Gamma"
   ]
  },
  {
   "cell_type": "code",
   "execution_count": null,
   "metadata": {},
   "outputs": [],
   "source": []
  },
  {
   "attachments": {},
   "cell_type": "markdown",
   "metadata": {},
   "source": [
    "#### Gaussian"
   ]
  },
  {
   "cell_type": "code",
   "execution_count": null,
   "metadata": {},
   "outputs": [],
   "source": [
    "smart_tv_max_median_up_mean = df_smart_tv_max_median_up[\"log_bytes_up\"].mean()\n",
    "smart_tv_max_median_up_std = df_smart_tv_max_median_up[\"log_bytes_up\"].std()\n",
    "\n",
    "smart_tv_max_median_down_mean = df_smart_tv_max_median_down[\"log_bytes_down\"].mean()\n",
    "smart_tv_max_median_down_std = df_smart_tv_max_median_down[\"log_bytes_down\"].std()\n",
    "\n",
    "smart_tv_max_mean_up_mean = df_smart_tv_max_mean_up[\"log_bytes_up\"].mean()\n",
    "smart_tv_max_mean_up_std = df_smart_tv_max_mean_up[\"log_bytes_up\"].std()\n",
    "\n",
    "smart_tv_max_mean_down_mean = df_smart_tv_max_mean_down[\"log_bytes_down\"].mean()\n",
    "smart_tv_max_mean_down_std = df_smart_tv_max_mean_down[\"log_bytes_down\"].std()"
   ]
  },
  {
   "cell_type": "code",
   "execution_count": null,
   "metadata": {},
   "outputs": [],
   "source": [
    "smart_tv_max_median_up_gaussian = gaussian(\n",
    "    df_smart_tv_max_median_up[\"log_bytes_up\"], smart_tv_max_median_up_mean, smart_tv_max_median_up_std\n",
    ")\n",
    "\n",
    "smart_tv_max_median_down_gaussian = gaussian(\n",
    "    df_smart_tv_max_median_down[\"log_bytes_down\"], smart_tv_max_median_down_mean, smart_tv_max_median_down_std\n",
    ")\n",
    "\n",
    "smart_tv_max_mean_up_gaussian = gaussian(\n",
    "    df_smart_tv_max_mean_up[\"log_bytes_up\"], smart_tv_max_mean_up_mean, smart_tv_max_mean_up_std\n",
    ")\n",
    "\n",
    "smart_tv_max_mean_down_gaussian = gaussian(\n",
    "    df_smart_tv_max_mean_down[\"log_bytes_down\"], smart_tv_max_mean_down_mean, smart_tv_max_mean_down_std\n",
    ")"
   ]
  },
  {
   "attachments": {},
   "cell_type": "markdown",
   "metadata": {},
   "source": [
    "### Histogram with MLE"
   ]
  },
  {
   "cell_type": "code",
   "execution_count": null,
   "metadata": {},
   "outputs": [],
   "source": [
    "for df, column, gaussian, mean, std in [\n",
    "    (df_smart_tv_max_median_up, \"log_bytes_up\", smart_tv_max_median_up_gaussian, smart_tv_max_median_up_mean, smart_tv_max_median_up_std),\n",
    "    (df_smart_tv_max_median_down, \"log_bytes_down\", smart_tv_max_median_down_gaussian, smart_tv_max_median_down_mean, smart_tv_max_median_down_std),\n",
    "    (df_smart_tv_max_mean_up, \"log_bytes_up\", smart_tv_max_mean_up_gaussian, smart_tv_max_mean_up_mean, smart_tv_max_mean_up_std),\n",
    "    (df_smart_tv_max_mean_down, \"log_bytes_down\", smart_tv_max_mean_down_gaussian, smart_tv_max_mean_down_mean, smart_tv_max_mean_down_std)\n",
    "]:\n",
    "    fig = plt.figure()\n",
    "    smart_tv_hist_bin = calculate_bin(df[column])\n",
    "    plt.hist(df[column], bins=smart_tv_hist_bin, color=(\"blue\" if column==\"log_bytes_up\" else \"red\"), alpha=0.5, edgecolor=\"black\")\n",
    "    plt.plot(df[column], gaussian)\n",
    "    plt.xlabel(\"Bytes\")\n",
    "    plt.ylabel(\"Frequency\")\n",
    "    plt.legend([\"Gaussian\", \"Histogram\"])\n",
    "    plt.title(f\"Smart TV Histogram of {column} for Hour \" + str(df[\"hour\"].iloc[0]))\n",
    "    fig.savefig(\n",
    "        f\"../images/smart_tv/fourth_section/histogram_mle/smart_tv_histogram_mle_{column}_hour_{df['hour'].iloc[0]}.png\",\n",
    "        dpi=fig.dpi,\n",
    "    )\n",
    "    print(f\"Hour {df['hour'].iloc[0]} - {column} - mean: {mean}, std: {std}\")"
   ]
  }
 ],
 "metadata": {
  "kernelspec": {
   "display_name": "Python 3",
   "language": "python",
   "name": "python3"
  },
  "language_info": {
   "codemirror_mode": {
    "name": "ipython",
    "version": 3
   },
   "file_extension": ".py",
   "mimetype": "text/x-python",
   "name": "python",
   "nbconvert_exporter": "python",
   "pygments_lexer": "ipython3",
   "version": "3.10.9"
  },
  "orig_nbformat": 4,
  "vscode": {
   "interpreter": {
    "hash": "a6ac60002819e048c10cb453e512591b611cadd0fa6445e6d3bcb42557ef5ea9"
   }
  }
 },
 "nbformat": 4,
 "nbformat_minor": 2
}
